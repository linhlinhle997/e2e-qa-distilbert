{
  "metadata": {
    "kernelspec": {
      "language": "python",
      "display_name": "Python 3",
      "name": "python3"
    },
    "language_info": {
      "name": "python",
      "version": "3.10.12",
      "mimetype": "text/x-python",
      "codemirror_mode": {
        "name": "ipython",
        "version": 3
      },
      "pygments_lexer": "ipython3",
      "nbconvert_exporter": "python",
      "file_extension": ".py"
    },
    "colab": {
      "provenance": [],
      "include_colab_link": true
    }
  },
  "nbformat_minor": 0,
  "nbformat": 4,
  "cells": [
    {
      "cell_type": "markdown",
      "metadata": {
        "id": "view-in-github",
        "colab_type": "text"
      },
      "source": [
        "<a href=\"https://colab.research.google.com/github/linhlinhle997/e2e-qa-distilbert/blob/develop/faiss_search.ipynb\" target=\"_parent\"><img src=\"https://colab.research.google.com/assets/colab-badge.svg\" alt=\"Open In Colab\"/></a>"
      ]
    },
    {
      "cell_type": "code",
      "source": [
        "!pip install --q datasets evaluate"
      ],
      "metadata": {
        "_uuid": "8f2839f25d086af736a60e9eeb907d3b93b6e0e5",
        "_cell_guid": "b1076dfc-b9ad-4769-8c92-a6c4dae69d19",
        "trusted": true,
        "id": "BO_loIY2l1Z9"
      },
      "outputs": [],
      "execution_count": null
    },
    {
      "cell_type": "code",
      "source": [
        "!sudo apt-get install -y libopenblas-dev\n",
        "!pip install -q condacolab\n",
        "import condacolab\n",
        "condacolab.install()\n",
        "!mamba install -c pytorch faiss-gpu -y"
      ],
      "metadata": {
        "trusted": true,
        "id": "wxKA8dHLl1Z-"
      },
      "outputs": [],
      "execution_count": null
    },
    {
      "cell_type": "code",
      "source": [
        "import numpy as np\n",
        "import collections\n",
        "import torch\n",
        "import faiss\n",
        "import evaluate\n",
        "from datasets import load_dataset\n",
        "from tqdm.auto import tqdm\n",
        "\n",
        "from transformers import (\n",
        "    AutoTokenizer,\n",
        "    AutoModel,\n",
        "    AutoModelForQuestionAnswering,\n",
        "    TrainingArguments,\n",
        "    Trainer,\n",
        ")"
      ],
      "metadata": {
        "trusted": true,
        "execution": {
          "iopub.status.busy": "2025-03-05T03:59:53.658836Z",
          "iopub.execute_input": "2025-03-05T03:59:53.659138Z",
          "iopub.status.idle": "2025-03-05T04:00:15.603170Z",
          "shell.execute_reply.started": "2025-03-05T03:59:53.659116Z",
          "shell.execute_reply": "2025-03-05T04:00:15.602135Z"
        },
        "id": "GWQizw3sl1Z-"
      },
      "outputs": [],
      "execution_count": null
    },
    {
      "cell_type": "code",
      "source": [
        "device = \"cuda\" if torch.cuda.is_available() else \"cpu\"\n",
        "device"
      ],
      "metadata": {
        "trusted": true,
        "execution": {
          "iopub.status.busy": "2025-03-05T04:00:15.604402Z",
          "iopub.execute_input": "2025-03-05T04:00:15.604950Z",
          "iopub.status.idle": "2025-03-05T04:00:15.661588Z",
          "shell.execute_reply.started": "2025-03-05T04:00:15.604924Z",
          "shell.execute_reply": "2025-03-05T04:00:15.660362Z"
        },
        "id": "aNVJp-8Xl1Z-",
        "outputId": "1b114604-3e6f-4c88-c642-a0b73cd01107"
      },
      "outputs": [
        {
          "execution_count": 3,
          "output_type": "execute_result",
          "data": {
            "text/plain": "'cuda'"
          },
          "metadata": {}
        }
      ],
      "execution_count": null
    },
    {
      "cell_type": "markdown",
      "source": [
        "## Load Dataset"
      ],
      "metadata": {
        "id": "J6ezmdhMl1Z_"
      }
    },
    {
      "cell_type": "code",
      "source": [
        "raw_ds = load_dataset(\"squad\", split=\"train\")"
      ],
      "metadata": {
        "trusted": true,
        "execution": {
          "iopub.status.busy": "2025-03-05T04:00:15.663499Z",
          "iopub.execute_input": "2025-03-05T04:00:15.663809Z",
          "iopub.status.idle": "2025-03-05T04:00:18.461657Z",
          "shell.execute_reply.started": "2025-03-05T04:00:15.663777Z",
          "shell.execute_reply": "2025-03-05T04:00:18.460825Z"
        },
        "id": "5dohXX39l1aA",
        "outputId": "bf0a9d4e-29f3-4606-ce6e-e01abf4e9980",
        "colab": {
          "referenced_widgets": [
            "c9a4c11281434f2f812098a83ba7877d",
            "ffe7fc91b3d5424f8fc96d33bc97a4f6",
            "e8452cd4a77e436d92d54d584def785c",
            "2d37906c609c413e8caeb5d3ea6425c9",
            "5fc472a7daac4fbf8ff36a4cf6b8275e"
          ]
        }
      },
      "outputs": [
        {
          "output_type": "display_data",
          "data": {
            "text/plain": "README.md:   0%|          | 0.00/7.62k [00:00<?, ?B/s]",
            "application/vnd.jupyter.widget-view+json": {
              "version_major": 2,
              "version_minor": 0,
              "model_id": "c9a4c11281434f2f812098a83ba7877d"
            }
          },
          "metadata": {}
        },
        {
          "output_type": "display_data",
          "data": {
            "text/plain": "train-00000-of-00001.parquet:   0%|          | 0.00/14.5M [00:00<?, ?B/s]",
            "application/vnd.jupyter.widget-view+json": {
              "version_major": 2,
              "version_minor": 0,
              "model_id": "ffe7fc91b3d5424f8fc96d33bc97a4f6"
            }
          },
          "metadata": {}
        },
        {
          "output_type": "display_data",
          "data": {
            "text/plain": "validation-00000-of-00001.parquet:   0%|          | 0.00/1.82M [00:00<?, ?B/s]",
            "application/vnd.jupyter.widget-view+json": {
              "version_major": 2,
              "version_minor": 0,
              "model_id": "e8452cd4a77e436d92d54d584def785c"
            }
          },
          "metadata": {}
        },
        {
          "output_type": "display_data",
          "data": {
            "text/plain": "Generating train split:   0%|          | 0/87599 [00:00<?, ? examples/s]",
            "application/vnd.jupyter.widget-view+json": {
              "version_major": 2,
              "version_minor": 0,
              "model_id": "2d37906c609c413e8caeb5d3ea6425c9"
            }
          },
          "metadata": {}
        },
        {
          "output_type": "display_data",
          "data": {
            "text/plain": "Generating validation split:   0%|          | 0/10570 [00:00<?, ? examples/s]",
            "application/vnd.jupyter.widget-view+json": {
              "version_major": 2,
              "version_minor": 0,
              "model_id": "5fc472a7daac4fbf8ff36a4cf6b8275e"
            }
          },
          "metadata": {}
        }
      ],
      "execution_count": null
    },
    {
      "cell_type": "code",
      "source": [
        "raw_ds"
      ],
      "metadata": {
        "trusted": true,
        "execution": {
          "iopub.status.busy": "2025-03-05T04:00:18.462920Z",
          "iopub.execute_input": "2025-03-05T04:00:18.463187Z",
          "iopub.status.idle": "2025-03-05T04:00:18.468030Z",
          "shell.execute_reply.started": "2025-03-05T04:00:18.463164Z",
          "shell.execute_reply": "2025-03-05T04:00:18.467162Z"
        },
        "id": "yuZI3KpBl1aA",
        "outputId": "74320a91-9e18-47a7-ae9c-690d134fbee8"
      },
      "outputs": [
        {
          "execution_count": 5,
          "output_type": "execute_result",
          "data": {
            "text/plain": "Dataset({\n    features: ['id', 'title', 'context', 'question', 'answers'],\n    num_rows: 87599\n})"
          },
          "metadata": {}
        }
      ],
      "execution_count": null
    },
    {
      "cell_type": "code",
      "source": [
        "print(raw_ds[\"question\"][0])\n",
        "print(raw_ds[\"context\"][0])\n",
        "print(raw_ds[\"answers\"][0])"
      ],
      "metadata": {
        "trusted": true,
        "execution": {
          "iopub.status.busy": "2025-03-05T04:00:18.469055Z",
          "iopub.execute_input": "2025-03-05T04:00:18.469341Z",
          "iopub.status.idle": "2025-03-05T04:00:19.912503Z",
          "shell.execute_reply.started": "2025-03-05T04:00:18.469313Z",
          "shell.execute_reply": "2025-03-05T04:00:19.911666Z"
        },
        "id": "pnGl2yETl1aA",
        "outputId": "36808343-d341-4487-b280-69a8fe908417"
      },
      "outputs": [
        {
          "name": "stdout",
          "text": "To whom did the Virgin Mary allegedly appear in 1858 in Lourdes France?\nArchitecturally, the school has a Catholic character. Atop the Main Building's gold dome is a golden statue of the Virgin Mary. Immediately in front of the Main Building and facing it, is a copper statue of Christ with arms upraised with the legend \"Venite Ad Me Omnes\". Next to the Main Building is the Basilica of the Sacred Heart. Immediately behind the basilica is the Grotto, a Marian place of prayer and reflection. It is a replica of the grotto at Lourdes, France where the Virgin Mary reputedly appeared to Saint Bernadette Soubirous in 1858. At the end of the main drive (and in a direct line that connects through 3 statues and the Gold Dome), is a simple, modern stone statue of Mary.\n{'text': ['Saint Bernadette Soubirous'], 'answer_start': [515]}\n",
          "output_type": "stream"
        }
      ],
      "execution_count": null
    },
    {
      "cell_type": "markdown",
      "source": [
        "Filter out non-answer samples"
      ],
      "metadata": {
        "id": "C7KSfuO-l1aA"
      }
    },
    {
      "cell_type": "code",
      "source": [
        "raw_ds = raw_ds.filter(\n",
        "    lambda x: len(x[\"answers\"][\"text\"]) > 0\n",
        ")\n",
        "raw_ds"
      ],
      "metadata": {
        "trusted": true,
        "execution": {
          "iopub.status.busy": "2025-03-05T04:00:19.913255Z",
          "iopub.execute_input": "2025-03-05T04:00:19.913522Z",
          "iopub.status.idle": "2025-03-05T04:00:21.252718Z",
          "shell.execute_reply.started": "2025-03-05T04:00:19.913490Z",
          "shell.execute_reply": "2025-03-05T04:00:21.251854Z"
        },
        "id": "2pQxw20zl1aA",
        "outputId": "6cffa009-0159-4aaa-c64a-c9fc1bafe9c7",
        "colab": {
          "referenced_widgets": [
            "5bdb1f115adf489599df73db2d3b015f"
          ]
        }
      },
      "outputs": [
        {
          "output_type": "display_data",
          "data": {
            "text/plain": "Filter:   0%|          | 0/87599 [00:00<?, ? examples/s]",
            "application/vnd.jupyter.widget-view+json": {
              "version_major": 2,
              "version_minor": 0,
              "model_id": "5bdb1f115adf489599df73db2d3b015f"
            }
          },
          "metadata": {}
        },
        {
          "execution_count": 7,
          "output_type": "execute_result",
          "data": {
            "text/plain": "Dataset({\n    features: ['id', 'title', 'context', 'question', 'answers'],\n    num_rows: 87599\n})"
          },
          "metadata": {}
        }
      ],
      "execution_count": null
    },
    {
      "cell_type": "markdown",
      "source": [
        "## Init pre-trained model"
      ],
      "metadata": {
        "id": "xDj424rdl1aA"
      }
    },
    {
      "cell_type": "code",
      "source": [
        "model_name = \"distilbert-base-uncased\"\n",
        "\n",
        "tokenizer = AutoTokenizer.from_pretrained(model_name)\n",
        "model = AutoModel.from_pretrained(model_name).to(device).half()"
      ],
      "metadata": {
        "trusted": true,
        "execution": {
          "iopub.status.busy": "2025-03-05T04:04:27.446874Z",
          "iopub.execute_input": "2025-03-05T04:04:27.447261Z",
          "iopub.status.idle": "2025-03-05T04:04:27.776232Z",
          "shell.execute_reply.started": "2025-03-05T04:04:27.447234Z",
          "shell.execute_reply": "2025-03-05T04:04:27.775352Z"
        },
        "id": "L-7Q06all1aA"
      },
      "outputs": [],
      "execution_count": null
    },
    {
      "cell_type": "markdown",
      "source": [
        "## Create Vector Embedding"
      ],
      "metadata": {
        "id": "pIMqpdhZl1aA"
      }
    },
    {
      "cell_type": "code",
      "source": [
        "def get_embeddings(text_list):\n",
        "    with torch.no_grad():\n",
        "        encoded_input = tokenizer(\n",
        "            text_list,\n",
        "            padding=True,\n",
        "            truncation=True,\n",
        "            return_tensors=\"pt\"\n",
        "        )\n",
        "        encoded_input = {k: v.to(device) for k, v in encoded_input.items()}\n",
        "        model_output = model(**encoded_input)\n",
        "        return model_output.last_hidden_state[:, 0].cpu().numpy() # Only get token <cls>"
      ],
      "metadata": {
        "trusted": true,
        "execution": {
          "iopub.status.busy": "2025-03-05T04:12:11.918241Z",
          "iopub.execute_input": "2025-03-05T04:12:11.918531Z",
          "iopub.status.idle": "2025-03-05T04:12:11.923031Z",
          "shell.execute_reply.started": "2025-03-05T04:12:11.918509Z",
          "shell.execute_reply": "2025-03-05T04:12:11.922140Z"
        },
        "id": "xP3vJBw1l1aB"
      },
      "outputs": [],
      "execution_count": null
    },
    {
      "cell_type": "markdown",
      "source": [
        "Test function"
      ],
      "metadata": {
        "id": "FPfrU4xEl1aB"
      }
    },
    {
      "cell_type": "code",
      "source": [
        "embedding = get_embeddings(raw_ds[\"context\"][0])\n",
        "embedding.shape"
      ],
      "metadata": {
        "trusted": true,
        "execution": {
          "iopub.status.busy": "2025-03-05T04:12:12.760173Z",
          "iopub.execute_input": "2025-03-05T04:12:12.760449Z",
          "iopub.status.idle": "2025-03-05T04:12:13.502654Z",
          "shell.execute_reply.started": "2025-03-05T04:12:12.760428Z",
          "shell.execute_reply": "2025-03-05T04:12:13.501960Z"
        },
        "id": "AMYKmXlXl1aB",
        "outputId": "77f2858a-303e-4577-b771-d92cba83d3a8"
      },
      "outputs": [
        {
          "execution_count": 19,
          "output_type": "execute_result",
          "data": {
            "text/plain": "(1, 768)"
          },
          "metadata": {}
        }
      ],
      "execution_count": null
    },
    {
      "cell_type": "code",
      "source": [
        "batch_size = 32\n",
        "embedding_column = \"question_embedding\"\n",
        "\n",
        "embedding_ds = raw_ds.map(\n",
        "    lambda batch: {embedding_column: get_embeddings(batch[\"context\"])},\n",
        "    batched=True,\n",
        "    batch_size=batch_size\n",
        ")"
      ],
      "metadata": {
        "trusted": true,
        "execution": {
          "iopub.status.busy": "2025-03-05T04:12:13.503595Z",
          "iopub.execute_input": "2025-03-05T04:12:13.503877Z",
          "iopub.status.idle": "2025-03-05T04:12:14.743611Z",
          "shell.execute_reply.started": "2025-03-05T04:12:13.503843Z",
          "shell.execute_reply": "2025-03-05T04:12:14.742968Z"
        },
        "id": "LDIIHXtSl1aB"
      },
      "outputs": [],
      "execution_count": null
    },
    {
      "cell_type": "code",
      "source": [
        "embedding_ds.add_faiss_index(column=embedding_column)"
      ],
      "metadata": {
        "trusted": true,
        "execution": {
          "iopub.status.busy": "2025-03-05T04:17:03.723856Z",
          "iopub.execute_input": "2025-03-05T04:17:03.724154Z",
          "iopub.status.idle": "2025-03-05T04:17:04.625344Z",
          "shell.execute_reply.started": "2025-03-05T04:17:03.724133Z",
          "shell.execute_reply": "2025-03-05T04:17:04.624356Z"
        },
        "id": "0Gmz2rm8l1aB",
        "outputId": "efffbe48-0416-47ab-e278-5c6ba627c038",
        "colab": {
          "referenced_widgets": [
            "0622b83e907d4e828b52e2b5ff51c7e7"
          ]
        }
      },
      "outputs": [
        {
          "output_type": "display_data",
          "data": {
            "text/plain": "  0%|          | 0/88 [00:00<?, ?it/s]",
            "application/vnd.jupyter.widget-view+json": {
              "version_major": 2,
              "version_minor": 0,
              "model_id": "0622b83e907d4e828b52e2b5ff51c7e7"
            }
          },
          "metadata": {}
        },
        {
          "execution_count": 26,
          "output_type": "execute_result",
          "data": {
            "text/plain": "Dataset({\n    features: ['id', 'title', 'context', 'question', 'answers', 'question_embedding'],\n    num_rows: 87599\n})"
          },
          "metadata": {}
        }
      ],
      "execution_count": null
    },
    {
      "cell_type": "markdown",
      "source": [
        "## Search similar samples with question"
      ],
      "metadata": {
        "id": "F_ogWRfRl1aB"
      }
    },
    {
      "cell_type": "code",
      "source": [
        "question = 'When did Beyonce start becoming popular?'\n",
        "\n",
        "input_quest_embedding = get_embeddings([question])\n",
        "input_quest_embedding.shape"
      ],
      "metadata": {
        "trusted": true,
        "execution": {
          "iopub.status.busy": "2025-03-05T04:18:04.192196Z",
          "iopub.execute_input": "2025-03-05T04:18:04.192479Z",
          "iopub.status.idle": "2025-03-05T04:18:04.203292Z",
          "shell.execute_reply.started": "2025-03-05T04:18:04.192456Z",
          "shell.execute_reply": "2025-03-05T04:18:04.202431Z"
        },
        "id": "99md7pgPl1aB",
        "outputId": "8188e052-4e70-4ec0-f5e8-dde32fb09100"
      },
      "outputs": [
        {
          "execution_count": 29,
          "output_type": "execute_result",
          "data": {
            "text/plain": "(1, 768)"
          },
          "metadata": {}
        }
      ],
      "execution_count": null
    },
    {
      "cell_type": "code",
      "source": [
        "TOP_K = 5\n",
        "\n",
        "scores, samples = embedding_ds.get_nearest_examples(\n",
        "    embedding_column, input_quest_embedding, k=TOP_K\n",
        ")"
      ],
      "metadata": {
        "trusted": true,
        "execution": {
          "iopub.status.busy": "2025-03-05T04:23:45.997784Z",
          "iopub.execute_input": "2025-03-05T04:23:45.998168Z",
          "iopub.status.idle": "2025-03-05T04:23:46.028680Z",
          "shell.execute_reply.started": "2025-03-05T04:23:45.998138Z",
          "shell.execute_reply": "2025-03-05T04:23:46.027958Z"
        },
        "id": "qaMwxSHHl1aB"
      },
      "outputs": [],
      "execution_count": null
    },
    {
      "cell_type": "code",
      "source": [
        "for idx, score in enumerate(scores):\n",
        "    print(f\"Top {idx + 1}\\tScore: {score}\")\n",
        "    print(f\"Question: {samples['question'][idx]}\")\n",
        "    print(f\"Context: {samples['context'][idx]}\")\n",
        "    print(f\"Answer: {samples['answers'][idx]}\")\n",
        "    print()"
      ],
      "metadata": {
        "trusted": true,
        "execution": {
          "iopub.status.busy": "2025-03-05T04:26:10.093022Z",
          "iopub.execute_input": "2025-03-05T04:26:10.093311Z",
          "iopub.status.idle": "2025-03-05T04:26:10.100577Z",
          "shell.execute_reply.started": "2025-03-05T04:26:10.093289Z",
          "shell.execute_reply": "2025-03-05T04:26:10.099920Z"
        },
        "id": "JseysqnRl1aB",
        "outputId": "3b3f61b5-52f5-4e00-81b6-e1c6dec80ef4"
      },
      "outputs": [
        {
          "name": "stdout",
          "text": "Top 1\tScore: 29.190715789794922\nQuestion: Who is the most influential recording artist of all time?\nContext: Various music journalists, critical theorists, and authors have deemed Madonna the most influential female recording artist of all time. Author Carol Clerk wrote that \"during her career, Madonna has transcended the term 'pop star' to become a global cultural icon.\" Rolling Stone of Spain wrote that \"She became the first viral Master of Pop in history, years before the Internet was massively used. Madonna was everywhere; in the almighty music television channels, 'radio formulas', magazine covers and even in bookshops. A pop dialectic, never seen since The Beatles's reign, which allowed her to keep on the edge of tendency and commerciality.\" Laura Barcella in her book Madonna and Me: Women Writers on the Queen of Pop (2012) wrote that \"really, Madonna changed everything the musical landscape, the '80s look du jour, and most significantly, what a mainstream female pop star could (and couldn't) say, do, or accomplish in the public eye.\" William Langley from The Daily Telegraph felt that \"Madonna has changed the world's social history, has done more things as more different people than anyone else is ever likely to.\" Alan McGee from The Guardian felt that Madonna is a post-modern art, the likes of which we will never see again. He further asserted that Madonna and Michael Jackson invented the terms Queen and King of Pop.\nAnswer: {'text': ['Madonna'], 'answer_start': [400]}\n\nTop 2\tScore: 29.190715789794922\nQuestion: Who wrote the book, Madonna and Me?\nContext: Various music journalists, critical theorists, and authors have deemed Madonna the most influential female recording artist of all time. Author Carol Clerk wrote that \"during her career, Madonna has transcended the term 'pop star' to become a global cultural icon.\" Rolling Stone of Spain wrote that \"She became the first viral Master of Pop in history, years before the Internet was massively used. Madonna was everywhere; in the almighty music television channels, 'radio formulas', magazine covers and even in bookshops. A pop dialectic, never seen since The Beatles's reign, which allowed her to keep on the edge of tendency and commerciality.\" Laura Barcella in her book Madonna and Me: Women Writers on the Queen of Pop (2012) wrote that \"really, Madonna changed everything the musical landscape, the '80s look du jour, and most significantly, what a mainstream female pop star could (and couldn't) say, do, or accomplish in the public eye.\" William Langley from The Daily Telegraph felt that \"Madonna has changed the world's social history, has done more things as more different people than anyone else is ever likely to.\" Alan McGee from The Guardian felt that Madonna is a post-modern art, the likes of which we will never see again. He further asserted that Madonna and Michael Jackson invented the terms Queen and King of Pop.\nAnswer: {'text': ['Laura Barcella'], 'answer_start': [649]}\n\nTop 3\tScore: 29.190715789794922\nQuestion: Who said that Madonna changed the world social history?\nContext: Various music journalists, critical theorists, and authors have deemed Madonna the most influential female recording artist of all time. Author Carol Clerk wrote that \"during her career, Madonna has transcended the term 'pop star' to become a global cultural icon.\" Rolling Stone of Spain wrote that \"She became the first viral Master of Pop in history, years before the Internet was massively used. Madonna was everywhere; in the almighty music television channels, 'radio formulas', magazine covers and even in bookshops. A pop dialectic, never seen since The Beatles's reign, which allowed her to keep on the edge of tendency and commerciality.\" Laura Barcella in her book Madonna and Me: Women Writers on the Queen of Pop (2012) wrote that \"really, Madonna changed everything the musical landscape, the '80s look du jour, and most significantly, what a mainstream female pop star could (and couldn't) say, do, or accomplish in the public eye.\" William Langley from The Daily Telegraph felt that \"Madonna has changed the world's social history, has done more things as more different people than anyone else is ever likely to.\" Alan McGee from The Guardian felt that Madonna is a post-modern art, the likes of which we will never see again. He further asserted that Madonna and Michael Jackson invented the terms Queen and King of Pop.\nAnswer: {'text': ['William Langley from The Daily Telegraph'], 'answer_start': [948]}\n\nTop 4\tScore: 29.190715789794922\nQuestion: Who said that Madonna is like post-moderm art?\nContext: Various music journalists, critical theorists, and authors have deemed Madonna the most influential female recording artist of all time. Author Carol Clerk wrote that \"during her career, Madonna has transcended the term 'pop star' to become a global cultural icon.\" Rolling Stone of Spain wrote that \"She became the first viral Master of Pop in history, years before the Internet was massively used. Madonna was everywhere; in the almighty music television channels, 'radio formulas', magazine covers and even in bookshops. A pop dialectic, never seen since The Beatles's reign, which allowed her to keep on the edge of tendency and commerciality.\" Laura Barcella in her book Madonna and Me: Women Writers on the Queen of Pop (2012) wrote that \"really, Madonna changed everything the musical landscape, the '80s look du jour, and most significantly, what a mainstream female pop star could (and couldn't) say, do, or accomplish in the public eye.\" William Langley from The Daily Telegraph felt that \"Madonna has changed the world's social history, has done more things as more different people than anyone else is ever likely to.\" Alan McGee from The Guardian felt that Madonna is a post-modern art, the likes of which we will never see again. He further asserted that Madonna and Michael Jackson invented the terms Queen and King of Pop.\nAnswer: {'text': ['Alan McGee from The Guardian'], 'answer_start': [1131]}\n\nTop 5\tScore: 29.400745391845703\nQuestion: What is the name of Madonna's seventh album?\nContext: Madonna's seventh studio album, Ray of Light, (1998) reflected a change in her image. She collaborated with electronica producer William Orbit and wanted to create a sound that could blend dance music with pop and British rock. American music critic Ann Powers explained that what Madonna searched for with Orbit \"was a kind of a lushness that she wanted for this record. Techno and rave was happening in the 90's and had a lot of different forms. There was very experimental, more hard stuff like Aphex Twin. There was party stuff like Fatboy Slim. That's not what Madonna wanted for this. She wanted something more like a singer-songwriter, really. And William Orbit provided her with that.\"\nAnswer: {'text': ['Ray of Light'], 'answer_start': [32]}\n\n",
          "output_type": "stream"
        }
      ],
      "execution_count": null
    },
    {
      "cell_type": "code",
      "source": [],
      "metadata": {
        "trusted": true,
        "id": "fWpIVz1rl1aB"
      },
      "outputs": [],
      "execution_count": null
    }
  ]
}