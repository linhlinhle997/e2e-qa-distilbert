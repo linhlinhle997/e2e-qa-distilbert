{
  "metadata": {
    "kernelspec": {
      "language": "python",
      "display_name": "Python 3",
      "name": "python3"
    },
    "language_info": {
      "name": "python",
      "version": "3.10.12",
      "mimetype": "text/x-python",
      "codemirror_mode": {
        "name": "ipython",
        "version": 3
      },
      "pygments_lexer": "ipython3",
      "nbconvert_exporter": "python",
      "file_extension": ".py"
    },
    "kaggle": {
      "accelerator": "nvidiaTeslaT4",
      "dataSources": [],
      "dockerImageVersionId": 30919,
      "isInternetEnabled": true,
      "language": "python",
      "sourceType": "notebook",
      "isGpuEnabled": true
    },
    "colab": {
      "provenance": [],
      "toc_visible": true,
      "include_colab_link": true
    }
  },
  "nbformat_minor": 0,
  "nbformat": 4,
  "cells": [
    {
      "cell_type": "markdown",
      "metadata": {
        "id": "view-in-github",
        "colab_type": "text"
      },
      "source": [
        "<a href=\"https://colab.research.google.com/github/linhlinhle997/e2e-qa-distilbert/blob/develop/retrieval_extractive_qa.ipynb\" target=\"_parent\"><img src=\"https://colab.research.google.com/assets/colab-badge.svg\" alt=\"Open In Colab\"/></a>"
      ]
    },
    {
      "cell_type": "code",
      "source": [
        "!pip install -qq datasets evaluate"
      ],
      "metadata": {
        "trusted": true,
        "id": "oBNgIaI8LTju"
      },
      "outputs": [],
      "execution_count": null
    },
    {
      "cell_type": "code",
      "source": [
        "!sudo apt-get install -y libopenblas-dev\n",
        "!pip install -q condacolab\n",
        "import condacolab\n",
        "condacolab.install()\n",
        "!mamba install -c pytorch faiss-gpu -y"
      ],
      "metadata": {
        "trusted": true,
        "id": "bVHatdgJLTjv"
      },
      "outputs": [],
      "execution_count": null
    },
    {
      "cell_type": "code",
      "source": [
        "import numpy as np\n",
        "import collections\n",
        "import torch\n",
        "import faiss\n",
        "import evaluate\n",
        "from datasets import load_dataset\n",
        "from tqdm.auto import tqdm\n",
        "\n",
        "from transformers import (\n",
        "    AutoTokenizer,\n",
        "    AutoModel,\n",
        "    AutoModelForQuestionAnswering,\n",
        "    TrainingArguments,\n",
        "    Trainer,\n",
        "    pipeline\n",
        ")"
      ],
      "metadata": {
        "trusted": true,
        "execution": {
          "iopub.status.busy": "2025-03-05T06:39:02.418910Z",
          "iopub.execute_input": "2025-03-05T06:39:02.419195Z",
          "iopub.status.idle": "2025-03-05T06:39:24.112430Z",
          "shell.execute_reply.started": "2025-03-05T06:39:02.419172Z",
          "shell.execute_reply": "2025-03-05T06:39:24.111367Z"
        },
        "id": "L2LTEpa-LTjw"
      },
      "outputs": [],
      "execution_count": null
    },
    {
      "cell_type": "code",
      "source": [
        "device = torch.device(\"cuda\") if torch.cuda.is_available() else torch.device(\"cpu\")\n",
        "device"
      ],
      "metadata": {
        "trusted": true,
        "execution": {
          "iopub.status.busy": "2025-03-05T06:39:35.184142Z",
          "iopub.execute_input": "2025-03-05T06:39:35.184436Z",
          "iopub.status.idle": "2025-03-05T06:39:35.189849Z",
          "shell.execute_reply.started": "2025-03-05T06:39:35.184413Z",
          "shell.execute_reply": "2025-03-05T06:39:35.189072Z"
        },
        "id": "1Srq9-L4LTjw",
        "outputId": "0b6662af-b1d2-45d8-9489-88267fa40f64"
      },
      "outputs": [
        {
          "execution_count": 3,
          "output_type": "execute_result",
          "data": {
            "text/plain": "device(type='cuda')"
          },
          "metadata": {}
        }
      ],
      "execution_count": null
    },
    {
      "cell_type": "markdown",
      "source": [
        "## Load Dataset"
      ],
      "metadata": {
        "id": "eCzlPWgQLTjx"
      }
    },
    {
      "cell_type": "code",
      "source": [
        "raw_ds = load_dataset(\"squad_v2\", split=\"train+validation\").shard(num_shards=40, index=0)\n",
        "raw_ds"
      ],
      "metadata": {
        "trusted": true,
        "execution": {
          "iopub.status.busy": "2025-03-05T06:39:43.092045Z",
          "iopub.execute_input": "2025-03-05T06:39:43.092344Z",
          "iopub.status.idle": "2025-03-05T06:39:47.447889Z",
          "shell.execute_reply.started": "2025-03-05T06:39:43.092321Z",
          "shell.execute_reply": "2025-03-05T06:39:47.447149Z"
        },
        "colab": {
          "referenced_widgets": [
            "246473180c4a4a39a29738476d5c3a20",
            "8833e080f05e4169851eb91b7a1bd354",
            "352abfb2483e405baf56589d0d7c3be3",
            "dc2de084b43c450b87614f6bb18ff4bc",
            "7966f7172dcc461090893a13a52ac112"
          ]
        },
        "id": "7Ax_EpgdLTjx",
        "outputId": "d9baa60d-46f1-4c8f-c676-8d7ba9f35eb5"
      },
      "outputs": [
        {
          "output_type": "display_data",
          "data": {
            "text/plain": "README.md:   0%|          | 0.00/8.92k [00:00<?, ?B/s]",
            "application/vnd.jupyter.widget-view+json": {
              "version_major": 2,
              "version_minor": 0,
              "model_id": "246473180c4a4a39a29738476d5c3a20"
            }
          },
          "metadata": {}
        },
        {
          "output_type": "display_data",
          "data": {
            "text/plain": "train-00000-of-00001.parquet:   0%|          | 0.00/16.4M [00:00<?, ?B/s]",
            "application/vnd.jupyter.widget-view+json": {
              "version_major": 2,
              "version_minor": 0,
              "model_id": "8833e080f05e4169851eb91b7a1bd354"
            }
          },
          "metadata": {}
        },
        {
          "output_type": "display_data",
          "data": {
            "text/plain": "validation-00000-of-00001.parquet:   0%|          | 0.00/1.35M [00:00<?, ?B/s]",
            "application/vnd.jupyter.widget-view+json": {
              "version_major": 2,
              "version_minor": 0,
              "model_id": "352abfb2483e405baf56589d0d7c3be3"
            }
          },
          "metadata": {}
        },
        {
          "output_type": "display_data",
          "data": {
            "text/plain": "Generating train split:   0%|          | 0/130319 [00:00<?, ? examples/s]",
            "application/vnd.jupyter.widget-view+json": {
              "version_major": 2,
              "version_minor": 0,
              "model_id": "dc2de084b43c450b87614f6bb18ff4bc"
            }
          },
          "metadata": {}
        },
        {
          "output_type": "display_data",
          "data": {
            "text/plain": "Generating validation split:   0%|          | 0/11873 [00:00<?, ? examples/s]",
            "application/vnd.jupyter.widget-view+json": {
              "version_major": 2,
              "version_minor": 0,
              "model_id": "7966f7172dcc461090893a13a52ac112"
            }
          },
          "metadata": {}
        },
        {
          "execution_count": 4,
          "output_type": "execute_result",
          "data": {
            "text/plain": "Dataset({\n    features: ['id', 'title', 'context', 'question', 'answers'],\n    num_rows: 3555\n})"
          },
          "metadata": {}
        }
      ],
      "execution_count": null
    },
    {
      "cell_type": "code",
      "source": [
        "test_datasets = load_dataset(\"squad_v2\", split=\"validation\")\n",
        "test_datasets"
      ],
      "metadata": {
        "trusted": true,
        "execution": {
          "iopub.status.busy": "2025-03-05T06:45:22.668165Z",
          "iopub.execute_input": "2025-03-05T06:45:22.668449Z",
          "iopub.status.idle": "2025-03-05T06:45:24.600279Z",
          "shell.execute_reply.started": "2025-03-05T06:45:22.668428Z",
          "shell.execute_reply": "2025-03-05T06:45:24.599491Z"
        },
        "id": "q8upoL18LTjy",
        "outputId": "d8d1dbdc-8698-4256-e780-d4f19179be8b"
      },
      "outputs": [
        {
          "execution_count": 23,
          "output_type": "execute_result",
          "data": {
            "text/plain": "Dataset({\n    features: ['id', 'title', 'context', 'question', 'answers'],\n    num_rows: 11873\n})"
          },
          "metadata": {}
        }
      ],
      "execution_count": null
    },
    {
      "cell_type": "code",
      "source": [
        "print(raw_ds[\"question\"][0])\n",
        "print(raw_ds[\"context\"][0])\n",
        "print(raw_ds[\"answers\"][0])"
      ],
      "metadata": {
        "trusted": true,
        "execution": {
          "iopub.status.busy": "2025-03-05T06:39:47.448937Z",
          "iopub.execute_input": "2025-03-05T06:39:47.449221Z",
          "iopub.status.idle": "2025-03-05T06:39:47.494042Z",
          "shell.execute_reply.started": "2025-03-05T06:39:47.449198Z",
          "shell.execute_reply": "2025-03-05T06:39:47.493164Z"
        },
        "id": "dh7pL0hWLTjy",
        "outputId": "2b91c56b-b69d-49c4-83bc-5ff9f4aa0138"
      },
      "outputs": [
        {
          "name": "stdout",
          "text": "When did Beyonce start becoming popular?\nBeyoncé Giselle Knowles-Carter (/biːˈjɒnseɪ/ bee-YON-say) (born September 4, 1981) is an American singer, songwriter, record producer and actress. Born and raised in Houston, Texas, she performed in various singing and dancing competitions as a child, and rose to fame in the late 1990s as lead singer of R&B girl-group Destiny's Child. Managed by her father, Mathew Knowles, the group became one of the world's best-selling girl groups of all time. Their hiatus saw the release of Beyoncé's debut album, Dangerously in Love (2003), which established her as a solo artist worldwide, earned five Grammy Awards and featured the Billboard Hot 100 number-one singles \"Crazy in Love\" and \"Baby Boy\".\n{'text': ['in the late 1990s'], 'answer_start': [269]}\n",
          "output_type": "stream"
        }
      ],
      "execution_count": null
    },
    {
      "cell_type": "markdown",
      "source": [
        "Filter out non-answerable samples"
      ],
      "metadata": {
        "id": "JzVAsWzzLTjy"
      }
    },
    {
      "cell_type": "code",
      "source": [
        "raw_ds = raw_ds.filter(lambda x: len(x[\"answers\"][\"text\"]) > 0)\n",
        "raw_ds"
      ],
      "metadata": {
        "trusted": true,
        "execution": {
          "iopub.status.busy": "2025-03-05T06:39:47.495500Z",
          "iopub.execute_input": "2025-03-05T06:39:47.495781Z",
          "iopub.status.idle": "2025-03-05T06:39:47.668968Z",
          "shell.execute_reply.started": "2025-03-05T06:39:47.495757Z",
          "shell.execute_reply": "2025-03-05T06:39:47.667918Z"
        },
        "colab": {
          "referenced_widgets": [
            "2c547cc2695f46e5aa1913167f7c3182"
          ]
        },
        "id": "XHPgWttKLTjy",
        "outputId": "8dcfa518-eab1-4ce4-a985-dd71f246326d"
      },
      "outputs": [
        {
          "output_type": "display_data",
          "data": {
            "text/plain": "Filter:   0%|          | 0/3555 [00:00<?, ? examples/s]",
            "application/vnd.jupyter.widget-view+json": {
              "version_major": 2,
              "version_minor": 0,
              "model_id": "2c547cc2695f46e5aa1913167f7c3182"
            }
          },
          "metadata": {}
        },
        {
          "execution_count": 6,
          "output_type": "execute_result",
          "data": {
            "text/plain": "Dataset({\n    features: ['id', 'title', 'context', 'question', 'answers'],\n    num_rows: 3207\n})"
          },
          "metadata": {}
        }
      ],
      "execution_count": null
    },
    {
      "cell_type": "markdown",
      "source": [
        "Delete unnecessary columns"
      ],
      "metadata": {
        "id": "mNW1fP7kLTjy"
      }
    },
    {
      "cell_type": "code",
      "source": [
        "columns = raw_ds.column_names\n",
        "\n",
        "columns_to_keep = [\"id\", \"context\", \"question\", \"answers\"]\n",
        "columns_to_remove = set(columns_to_keep).symmetric_difference(columns)\n",
        "columns_to_remove"
      ],
      "metadata": {
        "trusted": true,
        "execution": {
          "iopub.status.busy": "2025-03-05T06:39:49.328774Z",
          "iopub.execute_input": "2025-03-05T06:39:49.329104Z",
          "iopub.status.idle": "2025-03-05T06:39:49.335132Z",
          "shell.execute_reply.started": "2025-03-05T06:39:49.329080Z",
          "shell.execute_reply": "2025-03-05T06:39:49.334014Z"
        },
        "id": "CT6sb7UjLTjz",
        "outputId": "21d4c58e-4929-4135-d4ec-a821df126834"
      },
      "outputs": [
        {
          "execution_count": 7,
          "output_type": "execute_result",
          "data": {
            "text/plain": "{'title'}"
          },
          "metadata": {}
        }
      ],
      "execution_count": null
    },
    {
      "cell_type": "code",
      "source": [
        "raw_ds = raw_ds.remove_columns(columns_to_remove)\n",
        "raw_ds"
      ],
      "metadata": {
        "trusted": true,
        "execution": {
          "iopub.status.busy": "2025-03-05T06:39:52.129459Z",
          "iopub.execute_input": "2025-03-05T06:39:52.129795Z",
          "iopub.status.idle": "2025-03-05T06:39:52.137472Z",
          "shell.execute_reply.started": "2025-03-05T06:39:52.129757Z",
          "shell.execute_reply": "2025-03-05T06:39:52.136603Z"
        },
        "id": "_Japz5RfLTjz",
        "outputId": "3befcfef-07a9-4809-df68-5eecc1aae58f"
      },
      "outputs": [
        {
          "execution_count": 8,
          "output_type": "execute_result",
          "data": {
            "text/plain": "Dataset({\n    features: ['id', 'context', 'question', 'answers'],\n    num_rows: 3207\n})"
          },
          "metadata": {}
        }
      ],
      "execution_count": null
    },
    {
      "cell_type": "markdown",
      "source": [
        "## Init pretrained model"
      ],
      "metadata": {
        "id": "pKEzPMwfLTjz"
      }
    },
    {
      "cell_type": "code",
      "source": [
        "model_name = \"distilbert-base-uncased\"\n",
        "\n",
        "tokenizer = AutoTokenizer.from_pretrained(model_name)\n",
        "model = AutoModel.from_pretrained(model_name).to(device)"
      ],
      "metadata": {
        "trusted": true,
        "execution": {
          "iopub.status.busy": "2025-03-05T06:39:57.343902Z",
          "iopub.execute_input": "2025-03-05T06:39:57.344231Z",
          "iopub.status.idle": "2025-03-05T06:40:00.991724Z",
          "shell.execute_reply.started": "2025-03-05T06:39:57.344201Z",
          "shell.execute_reply": "2025-03-05T06:40:00.990780Z"
        },
        "colab": {
          "referenced_widgets": [
            "d954fd368eb64a8bacd90e3faae2b98d",
            "ef56a9c37b5d465e99104f2d8f3a7f65",
            "68d32f570ece40ac9eda49425860f176",
            "bf95ed02ceb741a6ae210a5b605a2cb8",
            "3895cf18d7ad4e29a4cbfee1d9850c7d"
          ]
        },
        "id": "0gGcqWhILTjz",
        "outputId": "1be09e75-ddde-489f-8797-53107e3e98f2"
      },
      "outputs": [
        {
          "output_type": "display_data",
          "data": {
            "text/plain": "tokenizer_config.json:   0%|          | 0.00/48.0 [00:00<?, ?B/s]",
            "application/vnd.jupyter.widget-view+json": {
              "version_major": 2,
              "version_minor": 0,
              "model_id": "d954fd368eb64a8bacd90e3faae2b98d"
            }
          },
          "metadata": {}
        },
        {
          "output_type": "display_data",
          "data": {
            "text/plain": "config.json:   0%|          | 0.00/483 [00:00<?, ?B/s]",
            "application/vnd.jupyter.widget-view+json": {
              "version_major": 2,
              "version_minor": 0,
              "model_id": "ef56a9c37b5d465e99104f2d8f3a7f65"
            }
          },
          "metadata": {}
        },
        {
          "output_type": "display_data",
          "data": {
            "text/plain": "vocab.txt:   0%|          | 0.00/232k [00:00<?, ?B/s]",
            "application/vnd.jupyter.widget-view+json": {
              "version_major": 2,
              "version_minor": 0,
              "model_id": "68d32f570ece40ac9eda49425860f176"
            }
          },
          "metadata": {}
        },
        {
          "output_type": "display_data",
          "data": {
            "text/plain": "tokenizer.json:   0%|          | 0.00/466k [00:00<?, ?B/s]",
            "application/vnd.jupyter.widget-view+json": {
              "version_major": 2,
              "version_minor": 0,
              "model_id": "bf95ed02ceb741a6ae210a5b605a2cb8"
            }
          },
          "metadata": {}
        },
        {
          "output_type": "display_data",
          "data": {
            "text/plain": "model.safetensors:   0%|          | 0.00/268M [00:00<?, ?B/s]",
            "application/vnd.jupyter.widget-view+json": {
              "version_major": 2,
              "version_minor": 0,
              "model_id": "3895cf18d7ad4e29a4cbfee1d9850c7d"
            }
          },
          "metadata": {}
        }
      ],
      "execution_count": null
    },
    {
      "cell_type": "code",
      "source": [
        "pipeline_name = \"question-answering\"\n",
        "qa_model_name = \"linhlinhle997/distilbert-finetuned-squadv2\"\n",
        "\n",
        "qa_pipeline  = pipeline(pipeline_name, model=qa_model_name)"
      ],
      "metadata": {
        "trusted": true,
        "execution": {
          "iopub.status.busy": "2025-03-05T06:44:35.519502Z",
          "iopub.execute_input": "2025-03-05T06:44:35.519900Z",
          "iopub.status.idle": "2025-03-05T06:44:38.850574Z",
          "shell.execute_reply.started": "2025-03-05T06:44:35.519854Z",
          "shell.execute_reply": "2025-03-05T06:44:38.849878Z"
        },
        "colab": {
          "referenced_widgets": [
            "f1114056cab846e6a737be3da58f5942",
            "c473a57b8a614a0d82c48d1efb8fd56e",
            "501cce333f7e40949c07ad162c8f851a",
            "652f85f03fcb4b3285686ff52741f1aa",
            "740e320aa6874f598b79715e6654e638",
            "9232c823e489498daf87ceeb3bf1a312"
          ]
        },
        "id": "w6h5h_TdLTjz",
        "outputId": "975332c1-12d9-4c12-eee8-3577dbf92fc4"
      },
      "outputs": [
        {
          "output_type": "display_data",
          "data": {
            "text/plain": "config.json:   0%|          | 0.00/561 [00:00<?, ?B/s]",
            "application/vnd.jupyter.widget-view+json": {
              "version_major": 2,
              "version_minor": 0,
              "model_id": "f1114056cab846e6a737be3da58f5942"
            }
          },
          "metadata": {}
        },
        {
          "output_type": "display_data",
          "data": {
            "text/plain": "model.safetensors:   0%|          | 0.00/265M [00:00<?, ?B/s]",
            "application/vnd.jupyter.widget-view+json": {
              "version_major": 2,
              "version_minor": 0,
              "model_id": "c473a57b8a614a0d82c48d1efb8fd56e"
            }
          },
          "metadata": {}
        },
        {
          "output_type": "display_data",
          "data": {
            "text/plain": "tokenizer_config.json:   0%|          | 0.00/1.23k [00:00<?, ?B/s]",
            "application/vnd.jupyter.widget-view+json": {
              "version_major": 2,
              "version_minor": 0,
              "model_id": "501cce333f7e40949c07ad162c8f851a"
            }
          },
          "metadata": {}
        },
        {
          "output_type": "display_data",
          "data": {
            "text/plain": "vocab.txt:   0%|          | 0.00/232k [00:00<?, ?B/s]",
            "application/vnd.jupyter.widget-view+json": {
              "version_major": 2,
              "version_minor": 0,
              "model_id": "652f85f03fcb4b3285686ff52741f1aa"
            }
          },
          "metadata": {}
        },
        {
          "output_type": "display_data",
          "data": {
            "text/plain": "tokenizer.json:   0%|          | 0.00/712k [00:00<?, ?B/s]",
            "application/vnd.jupyter.widget-view+json": {
              "version_major": 2,
              "version_minor": 0,
              "model_id": "740e320aa6874f598b79715e6654e638"
            }
          },
          "metadata": {}
        },
        {
          "output_type": "display_data",
          "data": {
            "text/plain": "special_tokens_map.json:   0%|          | 0.00/125 [00:00<?, ?B/s]",
            "application/vnd.jupyter.widget-view+json": {
              "version_major": 2,
              "version_minor": 0,
              "model_id": "9232c823e489498daf87ceeb3bf1a312"
            }
          },
          "metadata": {}
        },
        {
          "name": "stderr",
          "text": "Device set to use cuda:0\n",
          "output_type": "stream"
        }
      ],
      "execution_count": null
    },
    {
      "cell_type": "markdown",
      "source": [
        "### Create vector embedding"
      ],
      "metadata": {
        "id": "svJojGNPLTjz"
      }
    },
    {
      "cell_type": "code",
      "source": [
        "def get_embeddings(text_list):\n",
        "    with torch.no_grad():\n",
        "        encoded_input = tokenizer(text_list, padding=True, truncation=True, return_tensors=\"pt\")\n",
        "        encoded_input = {k: v.to(device) for k, v in encoded_input.items()}\n",
        "        model_output = model(**encoded_input)\n",
        "\n",
        "    return model_output.last_hidden_state[:, 0].cpu().numpy() # Only get token <cls>"
      ],
      "metadata": {
        "trusted": true,
        "execution": {
          "iopub.status.busy": "2025-03-05T06:40:19.140225Z",
          "iopub.execute_input": "2025-03-05T06:40:19.140514Z",
          "iopub.status.idle": "2025-03-05T06:40:19.145226Z",
          "shell.execute_reply.started": "2025-03-05T06:40:19.140491Z",
          "shell.execute_reply": "2025-03-05T06:40:19.144197Z"
        },
        "id": "ppfxVA1LLTjz"
      },
      "outputs": [],
      "execution_count": null
    },
    {
      "cell_type": "markdown",
      "source": [
        "## Embedding Question"
      ],
      "metadata": {
        "id": "cjsltpqRLTjz"
      }
    },
    {
      "cell_type": "markdown",
      "source": [
        "### Create vector embedding for question"
      ],
      "metadata": {
        "id": "XL0-rKCmLTjz"
      }
    },
    {
      "cell_type": "code",
      "source": [
        "# Test funciton\n",
        "embedding = get_embeddings(raw_ds[\"question\"][0])\n",
        "embedding.shape"
      ],
      "metadata": {
        "trusted": true,
        "execution": {
          "iopub.status.busy": "2025-03-05T06:49:35.949844Z",
          "iopub.execute_input": "2025-03-05T06:49:35.950137Z",
          "iopub.status.idle": "2025-03-05T06:49:35.974995Z",
          "shell.execute_reply.started": "2025-03-05T06:49:35.950114Z",
          "shell.execute_reply": "2025-03-05T06:49:35.974302Z"
        },
        "id": "VWiqecZnLTjz",
        "outputId": "cf86bd2e-2b13-4c9f-e4df-70b9a0367b91"
      },
      "outputs": [
        {
          "execution_count": 28,
          "output_type": "execute_result",
          "data": {
            "text/plain": "(1, 768)"
          },
          "metadata": {}
        }
      ],
      "execution_count": null
    },
    {
      "cell_type": "code",
      "source": [
        "batch_size = 32\n",
        "embedding_column = \"question_embedding\"\n",
        "\n",
        "embedding_ds = raw_ds.map(\n",
        "    lambda batch: {embedding_column: get_embeddings(batch[\"question\"])},\n",
        "    batched=True,\n",
        "    batch_size=batch_size\n",
        ")\n",
        "\n",
        "embedding_ds.add_faiss_index(column=embedding_column)"
      ],
      "metadata": {
        "trusted": true,
        "execution": {
          "iopub.status.busy": "2025-03-05T06:40:30.606650Z",
          "iopub.execute_input": "2025-03-05T06:40:30.607003Z",
          "iopub.status.idle": "2025-03-05T06:40:34.930043Z",
          "shell.execute_reply.started": "2025-03-05T06:40:30.606976Z",
          "shell.execute_reply": "2025-03-05T06:40:34.929337Z"
        },
        "colab": {
          "referenced_widgets": [
            "0d5d6bbad0b2437e8c3f652d0d3bb78d",
            "e42f697cea994606be1a75aa7d5ca868"
          ]
        },
        "id": "ka5iF8eJLTj0",
        "outputId": "e04abb28-0feb-4b1d-dae6-b62b7d771b78"
      },
      "outputs": [
        {
          "output_type": "display_data",
          "data": {
            "text/plain": "Map:   0%|          | 0/3207 [00:00<?, ? examples/s]",
            "application/vnd.jupyter.widget-view+json": {
              "version_major": 2,
              "version_minor": 0,
              "model_id": "0d5d6bbad0b2437e8c3f652d0d3bb78d"
            }
          },
          "metadata": {}
        },
        {
          "output_type": "display_data",
          "data": {
            "text/plain": "  0%|          | 0/4 [00:00<?, ?it/s]",
            "application/vnd.jupyter.widget-view+json": {
              "version_major": 2,
              "version_minor": 0,
              "model_id": "e42f697cea994606be1a75aa7d5ca868"
            }
          },
          "metadata": {}
        },
        {
          "execution_count": 12,
          "output_type": "execute_result",
          "data": {
            "text/plain": "Dataset({\n    features: ['id', 'context', 'question', 'answers', 'question_embedding'],\n    num_rows: 3207\n})"
          },
          "metadata": {}
        }
      ],
      "execution_count": null
    },
    {
      "cell_type": "markdown",
      "source": [
        "### QA"
      ],
      "metadata": {
        "id": "U6soCPX7LTj0"
      }
    },
    {
      "cell_type": "markdown",
      "source": [
        "#### Find similar samples based on the given question."
      ],
      "metadata": {
        "id": "6G_-vKMPLTj0"
      }
    },
    {
      "cell_type": "code",
      "source": [
        "input_question = \"When did Beyonce start becoming popular?\"\n",
        "\n",
        "input_question_embedding = get_embeddings([input_question])\n",
        "input_question_embedding.shape"
      ],
      "metadata": {
        "trusted": true,
        "execution": {
          "iopub.status.busy": "2025-03-05T06:40:51.071675Z",
          "iopub.execute_input": "2025-03-05T06:40:51.072042Z",
          "iopub.status.idle": "2025-03-05T06:40:51.090683Z",
          "shell.execute_reply.started": "2025-03-05T06:40:51.072015Z",
          "shell.execute_reply": "2025-03-05T06:40:51.089806Z"
        },
        "id": "3CfpvdbCLTj0",
        "outputId": "2833561a-590a-4a01-d305-f741f4f954fc"
      },
      "outputs": [
        {
          "execution_count": 13,
          "output_type": "execute_result",
          "data": {
            "text/plain": "(1, 768)"
          },
          "metadata": {}
        }
      ],
      "execution_count": null
    },
    {
      "cell_type": "code",
      "source": [
        "top_k = 3\n",
        "\n",
        "scores, samples = embedding_ds.get_nearest_examples(\n",
        "    embedding_column,\n",
        "    input_question_embedding,\n",
        "    k=top_k\n",
        ")"
      ],
      "metadata": {
        "trusted": true,
        "execution": {
          "iopub.status.busy": "2025-03-05T06:41:03.347179Z",
          "iopub.execute_input": "2025-03-05T06:41:03.347469Z",
          "iopub.status.idle": "2025-03-05T06:41:03.353810Z",
          "shell.execute_reply.started": "2025-03-05T06:41:03.347446Z",
          "shell.execute_reply": "2025-03-05T06:41:03.352895Z"
        },
        "id": "WilFUit3LTj0"
      },
      "outputs": [],
      "execution_count": null
    },
    {
      "cell_type": "code",
      "source": [
        "for idx, score in enumerate(scores):\n",
        "    print(f'Top {idx + 1}\\tScore: {score}')\n",
        "    print(f'Question: {samples[\"question\"][idx]}')\n",
        "    print(f'Context: {samples[\"context\"][idx]}')\n",
        "    print()"
      ],
      "metadata": {
        "trusted": true,
        "execution": {
          "iopub.status.busy": "2025-03-05T06:41:22.282820Z",
          "iopub.execute_input": "2025-03-05T06:41:22.283177Z",
          "iopub.status.idle": "2025-03-05T06:41:22.290080Z",
          "shell.execute_reply.started": "2025-03-05T06:41:22.283155Z",
          "shell.execute_reply": "2025-03-05T06:41:22.289072Z"
        },
        "id": "Db3fFvWCLTj1",
        "outputId": "1f1be272-5e93-4167-b4f5-9942b586d0a0"
      },
      "outputs": [
        {
          "name": "stdout",
          "text": "Top 1\tScore: 5.5387507080784104e-11\nQuestion: When did Beyonce start becoming popular?\nContext: Beyoncé Giselle Knowles-Carter (/biːˈjɒnseɪ/ bee-YON-say) (born September 4, 1981) is an American singer, songwriter, record producer and actress. Born and raised in Houston, Texas, she performed in various singing and dancing competitions as a child, and rose to fame in the late 1990s as lead singer of R&B girl-group Destiny's Child. Managed by her father, Mathew Knowles, the group became one of the world's best-selling girl groups of all time. Their hiatus saw the release of Beyoncé's debut album, Dangerously in Love (2003), which established her as a solo artist worldwide, earned five Grammy Awards and featured the Billboard Hot 100 number-one singles \"Crazy in Love\" and \"Baby Boy\".\n\nTop 2\tScore: 2.6135330200195312\nQuestion: When did Beyoncé rise to fame?\nContext: Beyoncé Giselle Knowles-Carter (/biːˈjɒnseɪ/ bee-YON-say) (born September 4, 1981) is an American singer, songwriter, record producer and actress. Born and raised in Houston, Texas, she performed in various singing and dancing competitions as a child, and rose to fame in the late 1990s as lead singer of R&B girl-group Destiny's Child. Managed by her father, Mathew Knowles, the group became one of the world's best-selling girl groups of all time. Their hiatus saw the release of Beyoncé's debut album, Dangerously in Love (2003), which established her as a solo artist worldwide, earned five Grammy Awards and featured the Billboard Hot 100 number-one singles \"Crazy in Love\" and \"Baby Boy\".\n\nTop 3\tScore: 4.859477996826172\nQuestion: When did Beyoncé release Formation?\nContext: On February 6, 2016, one day before her performance at the Super Bowl, Beyoncé released a new single exclusively on music streaming service Tidal called \"Formation\".\n\n",
          "output_type": "stream"
        }
      ],
      "execution_count": null
    },
    {
      "cell_type": "markdown",
      "source": [
        "#### Use the QA model to extract the answer from the retrieved Context."
      ],
      "metadata": {
        "id": "G5diT6jsLTj1"
      }
    },
    {
      "cell_type": "code",
      "source": [
        "print(f'Input question: {input_question}')\n",
        "for idx, score in enumerate(scores):\n",
        "    context = samples[\"context\"][idx]\n",
        "    answer = qa_pipeline(question=input_question, context=context)\n",
        "\n",
        "    print(f'Top {idx + 1} | Score: {score:.4f}')\n",
        "    print(f'Context: {context}')\n",
        "    print(f'Answer: {answer}')\n",
        "    print()"
      ],
      "metadata": {
        "trusted": true,
        "execution": {
          "iopub.status.busy": "2025-03-05T06:44:52.639491Z",
          "iopub.execute_input": "2025-03-05T06:44:52.639884Z",
          "iopub.status.idle": "2025-03-05T06:44:52.681550Z",
          "shell.execute_reply.started": "2025-03-05T06:44:52.639839Z",
          "shell.execute_reply": "2025-03-05T06:44:52.680876Z"
        },
        "id": "O7413k3OLTj1",
        "outputId": "f27a287d-738a-41bb-c0a7-6685d6da50c3"
      },
      "outputs": [
        {
          "name": "stdout",
          "text": "Input question: When did Beyonce start becoming popular?\nTop 1 | Score: 0.0000\nContext: Beyoncé Giselle Knowles-Carter (/biːˈjɒnseɪ/ bee-YON-say) (born September 4, 1981) is an American singer, songwriter, record producer and actress. Born and raised in Houston, Texas, she performed in various singing and dancing competitions as a child, and rose to fame in the late 1990s as lead singer of R&B girl-group Destiny's Child. Managed by her father, Mathew Knowles, the group became one of the world's best-selling girl groups of all time. Their hiatus saw the release of Beyoncé's debut album, Dangerously in Love (2003), which established her as a solo artist worldwide, earned five Grammy Awards and featured the Billboard Hot 100 number-one singles \"Crazy in Love\" and \"Baby Boy\".\nAnswer: {'score': 0.5104944705963135, 'start': 276, 'end': 286, 'answer': 'late 1990s'}\n\nTop 2 | Score: 2.6135\nContext: Beyoncé Giselle Knowles-Carter (/biːˈjɒnseɪ/ bee-YON-say) (born September 4, 1981) is an American singer, songwriter, record producer and actress. Born and raised in Houston, Texas, she performed in various singing and dancing competitions as a child, and rose to fame in the late 1990s as lead singer of R&B girl-group Destiny's Child. Managed by her father, Mathew Knowles, the group became one of the world's best-selling girl groups of all time. Their hiatus saw the release of Beyoncé's debut album, Dangerously in Love (2003), which established her as a solo artist worldwide, earned five Grammy Awards and featured the Billboard Hot 100 number-one singles \"Crazy in Love\" and \"Baby Boy\".\nAnswer: {'score': 0.5104944705963135, 'start': 276, 'end': 286, 'answer': 'late 1990s'}\n\nTop 3 | Score: 4.8595\nContext: On February 6, 2016, one day before her performance at the Super Bowl, Beyoncé released a new single exclusively on music streaming service Tidal called \"Formation\".\nAnswer: {'score': 0.775536298751831, 'start': 3, 'end': 19, 'answer': 'February 6, 2016'}\n\n",
          "output_type": "stream"
        }
      ],
      "execution_count": null
    },
    {
      "cell_type": "markdown",
      "source": [
        "### Test"
      ],
      "metadata": {
        "id": "xktI50hZLTj1"
      }
    },
    {
      "cell_type": "code",
      "source": [
        "top_k = 3\n",
        "\n",
        "for idx, input_question in enumerate(test_question):\n",
        "    input_question_embedding = get_embeddings([input_question])\n",
        "\n",
        "    scores, samples = embedding_ds.get_nearest_examples(\n",
        "        embedding_column, input_question_embedding, k=top_k\n",
        "    )\n",
        "\n",
        "    print(f\"Question: {idx+1}: {input_question}\\n\")\n",
        "    for jdx, scores in enumerate(scores):\n",
        "        context = samples[\"context\"][jdx]\n",
        "        answer = qa_pipeline(question=input_question, context=context)\n",
        "\n",
        "        print(f\"Top {jdx+1} | Score: {score:.4f}\")\n",
        "        print(f\"Context: {context}\")\n",
        "        print(f\"Answer: {answer}\")\n",
        "        print()\n",
        "    print(\"=\"*100)"
      ],
      "metadata": {
        "trusted": true,
        "execution": {
          "iopub.status.busy": "2025-03-05T06:45:34.681665Z",
          "iopub.execute_input": "2025-03-05T06:45:34.682016Z",
          "iopub.status.idle": "2025-03-05T06:45:35.167081Z",
          "shell.execute_reply.started": "2025-03-05T06:45:34.681985Z",
          "shell.execute_reply": "2025-03-05T06:45:35.166169Z"
        },
        "collapsed": true,
        "jupyter": {
          "outputs_hidden": true
        },
        "id": "VI4Z5FTlLTj1",
        "outputId": "72e15bf6-cce8-4c30-fb6e-16eaedc6c2f9"
      },
      "outputs": [
        {
          "name": "stderr",
          "text": "You seem to be using the pipelines sequentially on GPU. In order to maximize efficiency please use a dataset\n",
          "output_type": "stream"
        },
        {
          "name": "stdout",
          "text": "Question: 1: How many awards was Beyonce nominated for at the 52nd Grammy Awards?\n\nTop 1 | Score: 4.8595\nContext: At the 52nd Annual Grammy Awards, Beyoncé received ten nominations, including Album of the Year for I Am... Sasha Fierce, Record of the Year for \"Halo\", and Song of the Year for \"Single Ladies (Put a Ring on It)\", among others. She tied with Lauryn Hill for most Grammy nominations in a single year by a female artist. In 2010, Beyoncé was featured on Lady Gaga's single \"Telephone\" and its music video. The song topped the US Pop Songs chart, becoming the sixth number-one for both Beyoncé and Gaga, tying them with Mariah Carey for most number-ones since the Nielsen Top 40 airplay chart launched in 1992. \"Telephone\" received a Grammy Award nomination for Best Pop Collaboration with Vocals.\nAnswer: {'score': 0.8438270092010498, 'start': 51, 'end': 54, 'answer': 'ten'}\n\nTop 2 | Score: 4.8595\nContext: At the 57th Annual Grammy Awards in February 2015, Beyoncé was nominated for six awards, ultimately winning three: Best R&B Performance and Best R&B Song for \"Drunk in Love\", and Best Surround Sound Album for Beyoncé. She was nominated for Album of the Year but the award was won by Beck for his Morning Phase album. In August, the cover of the September issue of Vogue magazine was unveiled online, Beyoncé as the cover star, becoming the first African-American artist and third African-American woman in general to cover the September issue. She headlined the 2015 Made in America festival in early September and also the Global Citizen Festival later that month. Beyoncé made an uncredited featured appearance on the track \"Hymn for the Weekend\" by British rock band Coldplay, on their seventh studio album A Head Full of Dreams (2015), which saw release in December. On January 7, 2016, Pepsi announced Beyoncé would perform alongside Coldplay at Super Bowl 50 in February. Knowles has previously performed at four Super Bowl shows throughout her career, serving as the main headliner of the 47th Super Bowl halftime show in 2013.\nAnswer: {'score': 0.3772701025009155, 'start': 108, 'end': 113, 'answer': 'three'}\n\nTop 3 | Score: 4.8595\nContext: Beyoncé's first solo recording was a feature on Jay Z's \"'03 Bonnie & Clyde\" that was released in October 2002, peaking at number four on the U.S. Billboard Hot 100 chart. Her first solo album Dangerously in Love was released on June 24, 2003, after Michelle Williams and Kelly Rowland had released their solo efforts. The album sold 317,000 copies in its first week, debuted atop the Billboard 200, and has since sold 11 million copies worldwide. The album's lead single, \"Crazy in Love\", featuring Jay Z, became Beyoncé's first number-one single as a solo artist in the US. The single \"Baby Boy\" also reached number one, and singles, \"Me, Myself and I\" and \"Naughty Girl\", both reached the top-five. The album earned Beyoncé a then record-tying five awards at the 46th Annual Grammy Awards; Best Contemporary R&B Album, Best Female R&B Vocal Performance for \"Dangerously in Love 2\", Best R&B Song and Best Rap/Sung Collaboration for \"Crazy in Love\", and Best R&B Performance by a Duo or Group with Vocals for \"The Closer I Get to You\" with Luther Vandross.\nAnswer: {'score': 0.7244684100151062, 'start': 747, 'end': 751, 'answer': 'five'}\n\n====================================================================================================\nQuestion: 2: Beyonce tied with which artist for most nominations by a female artist?\n\nTop 1 | Score: 4.8595\nContext: At the 52nd Annual Grammy Awards, Beyoncé received ten nominations, including Album of the Year for I Am... Sasha Fierce, Record of the Year for \"Halo\", and Song of the Year for \"Single Ladies (Put a Ring on It)\", among others. She tied with Lauryn Hill for most Grammy nominations in a single year by a female artist. In 2010, Beyoncé was featured on Lady Gaga's single \"Telephone\" and its music video. The song topped the US Pop Songs chart, becoming the sixth number-one for both Beyoncé and Gaga, tying them with Mariah Carey for most number-ones since the Nielsen Top 40 airplay chart launched in 1992. \"Telephone\" received a Grammy Award nomination for Best Pop Collaboration with Vocals.\nAnswer: {'score': 0.9758204817771912, 'start': 242, 'end': 253, 'answer': 'Lauryn Hill'}\n\nTop 2 | Score: 4.8595\nContext: At the 52nd Annual Grammy Awards, Beyoncé received ten nominations, including Album of the Year for I Am... Sasha Fierce, Record of the Year for \"Halo\", and Song of the Year for \"Single Ladies (Put a Ring on It)\", among others. She tied with Lauryn Hill for most Grammy nominations in a single year by a female artist. In 2010, Beyoncé was featured on Lady Gaga's single \"Telephone\" and its music video. The song topped the US Pop Songs chart, becoming the sixth number-one for both Beyoncé and Gaga, tying them with Mariah Carey for most number-ones since the Nielsen Top 40 airplay chart launched in 1992. \"Telephone\" received a Grammy Award nomination for Best Pop Collaboration with Vocals.\nAnswer: {'score': 0.9758204817771912, 'start': 242, 'end': 253, 'answer': 'Lauryn Hill'}\n\nTop 3 | Score: 4.8595\nContext: At the 52nd Annual Grammy Awards, Beyoncé received ten nominations, including Album of the Year for I Am... Sasha Fierce, Record of the Year for \"Halo\", and Song of the Year for \"Single Ladies (Put a Ring on It)\", among others. She tied with Lauryn Hill for most Grammy nominations in a single year by a female artist. In 2010, Beyoncé was featured on Lady Gaga's single \"Telephone\" and its music video. The song topped the US Pop Songs chart, becoming the sixth number-one for both Beyoncé and Gaga, tying them with Mariah Carey for most number-ones since the Nielsen Top 40 airplay chart launched in 1992. \"Telephone\" received a Grammy Award nomination for Best Pop Collaboration with Vocals.\nAnswer: {'score': 0.9758204817771912, 'start': 242, 'end': 253, 'answer': 'Lauryn Hill'}\n\n====================================================================================================\nQuestion: 3: In 2010, Beyonce worked with which other famous singer?\n\nTop 1 | Score: 4.8595\nContext: At the 52nd Annual Grammy Awards, Beyoncé received ten nominations, including Album of the Year for I Am... Sasha Fierce, Record of the Year for \"Halo\", and Song of the Year for \"Single Ladies (Put a Ring on It)\", among others. She tied with Lauryn Hill for most Grammy nominations in a single year by a female artist. In 2010, Beyoncé was featured on Lady Gaga's single \"Telephone\" and its music video. The song topped the US Pop Songs chart, becoming the sixth number-one for both Beyoncé and Gaga, tying them with Mariah Carey for most number-ones since the Nielsen Top 40 airplay chart launched in 1992. \"Telephone\" received a Grammy Award nomination for Best Pop Collaboration with Vocals.\nAnswer: {'score': 0.5870522260665894, 'start': 352, 'end': 361, 'answer': 'Lady Gaga'}\n\nTop 2 | Score: 4.8595\nContext: In 2005, Beyoncé teamed up with House of Brands, a shoe company, to produce a range of footwear for House of Deréon. In January 2008, Starwave Mobile launched Beyoncé Fashion Diva, a \"high-style\" mobile game with a social networking component, featuring the House of Deréon collection. In July 2009, Beyoncé and her mother launched a new junior apparel label, Sasha Fierce for Deréon, for back-to-school selling. The collection included sportswear, outerwear, handbags, footwear, eyewear, lingerie and jewelry. It was available at department stores including Macy's and Dillard's, and specialty stores Jimmy Jazz and Against All Odds. On May 27, 2010, Beyoncé teamed up with clothing store C&A to launch Deréon by Beyoncé at their stores in Brazil. The collection included tailored blazers with padded shoulders, little black dresses, embroidered tops and shirts and bandage dresses.\nAnswer: {'score': 0.22466038167476654, 'start': 690, 'end': 693, 'answer': 'C&A'}\n\nTop 3 | Score: 4.8595\nContext: Beyoncé's music is generally R&B, but she also incorporates pop, soul and funk into her songs. 4 demonstrated Beyoncé's exploration of 90s-style R&B, as well as further use of soul and hip hop than compared to previous releases. While she almost exclusively releases English songs, Beyoncé recorded several Spanish songs for Irreemplazable (re-recordings of songs from B'Day for a Spanish-language audience), and the re-release of B'Day. To record these, Beyoncé was coached phonetically by American record producer Rudy Perez.\nAnswer: {'score': 0.7069382071495056, 'start': 516, 'end': 526, 'answer': 'Rudy Perez'}\n\n====================================================================================================\nQuestion: 4: How many number one singles did Beyonce now have after the song \"Telephone\"?\n\nTop 1 | Score: 4.8595\nContext: At the 52nd Annual Grammy Awards, Beyoncé received ten nominations, including Album of the Year for I Am... Sasha Fierce, Record of the Year for \"Halo\", and Song of the Year for \"Single Ladies (Put a Ring on It)\", among others. She tied with Lauryn Hill for most Grammy nominations in a single year by a female artist. In 2010, Beyoncé was featured on Lady Gaga's single \"Telephone\" and its music video. The song topped the US Pop Songs chart, becoming the sixth number-one for both Beyoncé and Gaga, tying them with Mariah Carey for most number-ones since the Nielsen Top 40 airplay chart launched in 1992. \"Telephone\" received a Grammy Award nomination for Best Pop Collaboration with Vocals.\nAnswer: {'score': 0.9368147253990173, 'start': 457, 'end': 462, 'answer': 'sixth'}\n\nTop 2 | Score: 4.8595\nContext: Beyoncé's first solo recording was a feature on Jay Z's \"'03 Bonnie & Clyde\" that was released in October 2002, peaking at number four on the U.S. Billboard Hot 100 chart. Her first solo album Dangerously in Love was released on June 24, 2003, after Michelle Williams and Kelly Rowland had released their solo efforts. The album sold 317,000 copies in its first week, debuted atop the Billboard 200, and has since sold 11 million copies worldwide. The album's lead single, \"Crazy in Love\", featuring Jay Z, became Beyoncé's first number-one single as a solo artist in the US. The single \"Baby Boy\" also reached number one, and singles, \"Me, Myself and I\" and \"Naughty Girl\", both reached the top-five. The album earned Beyoncé a then record-tying five awards at the 46th Annual Grammy Awards; Best Contemporary R&B Album, Best Female R&B Vocal Performance for \"Dangerously in Love 2\", Best R&B Song and Best Rap/Sung Collaboration for \"Crazy in Love\", and Best R&B Performance by a Duo or Group with Vocals for \"The Closer I Get to You\" with Luther Vandross.\nAnswer: {'score': 0.21539556980133057, 'start': 419, 'end': 429, 'answer': '11 million'}\n\nTop 3 | Score: 4.8595\nContext: Her fourth studio album 4 was released on June 28, 2011 in the US. 4 sold 310,000 copies in its first week and debuted atop the Billboard 200 chart, giving Beyoncé her fourth consecutive number-one album in the US. The album was preceded by two of its singles \"Run the World (Girls)\" and \"Best Thing I Never Had\", which both attained moderate success. The fourth single \"Love on Top\" was a commercial success in the US. 4 also produced four other singles; \"Party\", \"Countdown\", \"I Care\" and \"End of Time\". \"Eat, Play, Love\", a cover story written by Beyoncé for Essence that detailed her 2010 career break, won her a writing award from the New York Association of Black Journalists. In late 2011, she took the stage at New York's Roseland Ballroom for four nights of special performances: the 4 Intimate Nights with Beyoncé concerts saw the performance of her 4 album to a standing room only.\nAnswer: {'score': 0.8308988213539124, 'start': 241, 'end': 244, 'answer': 'two'}\n\n====================================================================================================\nQuestion: 5: Beyonce tied who for most number one singles by a female?\n\nTop 1 | Score: 4.8595\nContext: At the 52nd Annual Grammy Awards, Beyoncé received ten nominations, including Album of the Year for I Am... Sasha Fierce, Record of the Year for \"Halo\", and Song of the Year for \"Single Ladies (Put a Ring on It)\", among others. She tied with Lauryn Hill for most Grammy nominations in a single year by a female artist. In 2010, Beyoncé was featured on Lady Gaga's single \"Telephone\" and its music video. The song topped the US Pop Songs chart, becoming the sixth number-one for both Beyoncé and Gaga, tying them with Mariah Carey for most number-ones since the Nielsen Top 40 airplay chart launched in 1992. \"Telephone\" received a Grammy Award nomination for Best Pop Collaboration with Vocals.\nAnswer: {'score': 0.5661644339561462, 'start': 517, 'end': 529, 'answer': 'Mariah Carey'}\n\nTop 2 | Score: 4.8595\nContext: At the 52nd Annual Grammy Awards, Beyoncé received ten nominations, including Album of the Year for I Am... Sasha Fierce, Record of the Year for \"Halo\", and Song of the Year for \"Single Ladies (Put a Ring on It)\", among others. She tied with Lauryn Hill for most Grammy nominations in a single year by a female artist. In 2010, Beyoncé was featured on Lady Gaga's single \"Telephone\" and its music video. The song topped the US Pop Songs chart, becoming the sixth number-one for both Beyoncé and Gaga, tying them with Mariah Carey for most number-ones since the Nielsen Top 40 airplay chart launched in 1992. \"Telephone\" received a Grammy Award nomination for Best Pop Collaboration with Vocals.\nAnswer: {'score': 0.5661644339561462, 'start': 517, 'end': 529, 'answer': 'Mariah Carey'}\n\nTop 3 | Score: 4.8595\nContext: Beyoncé has won 20 Grammy Awards, both as a solo artist and member of Destiny's Child, making her the second most honored female artist by the Grammys, behind Alison Krauss and the most nominated woman in Grammy Award history with 52 nominations. \"Single Ladies (Put a Ring on It)\" won Song of the Year in 2010 while \"Say My Name\" and \"Crazy in Love\" had previously won Best R&B Song. Dangerously in Love, B'Day and I Am... Sasha Fierce have all won Best Contemporary R&B Album. Beyoncé set the record for the most Grammy awards won by a female artist in one night in 2010 when she won six awards, breaking the tie she previously held with Alicia Keys, Norah Jones, Alison Krauss, and Amy Winehouse, with Adele equaling this in 2012. Following her role in Dreamgirls she was nominated for Best Original Song for \"Listen\" and Best Actress at the Golden Globe Awards, and Outstanding Actress in a Motion Picture at the NAACP Image Awards. Beyoncé won two awards at the Broadcast Film Critics Association Awards 2006; Best Song for \"Listen\" and Best Original Soundtrack for Dreamgirls: Music from the Motion Picture.\nAnswer: {'score': 0.7821500897407532, 'start': 159, 'end': 172, 'answer': 'Alison Krauss'}\n\n====================================================================================================\nQuestion: 6: Beyonce received how many nominations at the 52nd Annual Grammy Awards?\n\nTop 1 | Score: 4.8595\nContext: At the 52nd Annual Grammy Awards, Beyoncé received ten nominations, including Album of the Year for I Am... Sasha Fierce, Record of the Year for \"Halo\", and Song of the Year for \"Single Ladies (Put a Ring on It)\", among others. She tied with Lauryn Hill for most Grammy nominations in a single year by a female artist. In 2010, Beyoncé was featured on Lady Gaga's single \"Telephone\" and its music video. The song topped the US Pop Songs chart, becoming the sixth number-one for both Beyoncé and Gaga, tying them with Mariah Carey for most number-ones since the Nielsen Top 40 airplay chart launched in 1992. \"Telephone\" received a Grammy Award nomination for Best Pop Collaboration with Vocals.\nAnswer: {'score': 0.8641396760940552, 'start': 51, 'end': 54, 'answer': 'ten'}\n\nTop 2 | Score: 4.8595\nContext: At the 52nd Annual Grammy Awards, Beyoncé received ten nominations, including Album of the Year for I Am... Sasha Fierce, Record of the Year for \"Halo\", and Song of the Year for \"Single Ladies (Put a Ring on It)\", among others. She tied with Lauryn Hill for most Grammy nominations in a single year by a female artist. In 2010, Beyoncé was featured on Lady Gaga's single \"Telephone\" and its music video. The song topped the US Pop Songs chart, becoming the sixth number-one for both Beyoncé and Gaga, tying them with Mariah Carey for most number-ones since the Nielsen Top 40 airplay chart launched in 1992. \"Telephone\" received a Grammy Award nomination for Best Pop Collaboration with Vocals.\nAnswer: {'score': 0.8641396760940552, 'start': 51, 'end': 54, 'answer': 'ten'}\n\nTop 3 | Score: 4.8595\nContext: Beyoncé's first solo recording was a feature on Jay Z's \"'03 Bonnie & Clyde\" that was released in October 2002, peaking at number four on the U.S. Billboard Hot 100 chart. Her first solo album Dangerously in Love was released on June 24, 2003, after Michelle Williams and Kelly Rowland had released their solo efforts. The album sold 317,000 copies in its first week, debuted atop the Billboard 200, and has since sold 11 million copies worldwide. The album's lead single, \"Crazy in Love\", featuring Jay Z, became Beyoncé's first number-one single as a solo artist in the US. The single \"Baby Boy\" also reached number one, and singles, \"Me, Myself and I\" and \"Naughty Girl\", both reached the top-five. The album earned Beyoncé a then record-tying five awards at the 46th Annual Grammy Awards; Best Contemporary R&B Album, Best Female R&B Vocal Performance for \"Dangerously in Love 2\", Best R&B Song and Best Rap/Sung Collaboration for \"Crazy in Love\", and Best R&B Performance by a Duo or Group with Vocals for \"The Closer I Get to You\" with Luther Vandross.\nAnswer: {'score': 0.5919252634048462, 'start': 747, 'end': 751, 'answer': 'five'}\n\n====================================================================================================\nQuestion: 7: What song was the sixth first place song for Beyonce?\n\nTop 1 | Score: 4.8595\nContext: At the 52nd Annual Grammy Awards, Beyoncé received ten nominations, including Album of the Year for I Am... Sasha Fierce, Record of the Year for \"Halo\", and Song of the Year for \"Single Ladies (Put a Ring on It)\", among others. She tied with Lauryn Hill for most Grammy nominations in a single year by a female artist. In 2010, Beyoncé was featured on Lady Gaga's single \"Telephone\" and its music video. The song topped the US Pop Songs chart, becoming the sixth number-one for both Beyoncé and Gaga, tying them with Mariah Carey for most number-ones since the Nielsen Top 40 airplay chart launched in 1992. \"Telephone\" received a Grammy Award nomination for Best Pop Collaboration with Vocals.\nAnswer: {'score': 0.6620568633079529, 'start': 372, 'end': 381, 'answer': 'Telephone'}\n\nTop 2 | Score: 4.8595\nContext: Beyoncé attended St. Mary's Elementary School in Fredericksburg, Texas, where she enrolled in dance classes. Her singing talent was discovered when dance instructor Darlette Johnson began humming a song and she finished it, able to hit the high-pitched notes. Beyoncé's interest in music and performing continued after winning a school talent show at age seven, singing John Lennon's \"Imagine\" to beat 15/16-year-olds. In fall of 1990, Beyoncé enrolled in Parker Elementary School, a music magnet school in Houston, where she would perform with the school's choir. She also attended the High School for the Performing and Visual Arts and later Alief Elsik High School. Beyoncé was also a member of the choir at St. John's United Methodist Church as a soloist for two years.\nAnswer: {'score': 0.4879542589187622, 'start': 385, 'end': 392, 'answer': 'Imagine'}\n\nTop 3 | Score: 4.8595\nContext: In July 2002, Beyoncé continued her acting career playing Foxxy Cleopatra alongside Mike Myers in the comedy film, Austin Powers in Goldmember, which spent its first weekend atop the US box office and grossed $73 million. Beyoncé released \"Work It Out\" as the lead single from its soundtrack album which entered the top ten in the UK, Norway, and Belgium. In 2003, Beyoncé starred opposite Cuba Gooding, Jr., in the musical comedy The Fighting Temptations as Lilly, a single mother whom Gooding's character falls in love with. The film received mixed reviews from critics but grossed $30 million in the U.S. Beyoncé released \"Fighting Temptation\" as the lead single from the film's soundtrack album, with Missy Elliott, MC Lyte, and Free which was also used to promote the film. Another of Beyoncé's contributions to the soundtrack, \"Summertime\", fared better on the US charts.\nAnswer: {'score': 0.40783074498176575, 'start': 431, 'end': 455, 'answer': 'The Fighting Temptations'}\n\n====================================================================================================\nQuestion: 8: Who else appeared with Beyonce in Telephone?\n\nTop 1 | Score: 4.8595\nContext: At the 52nd Annual Grammy Awards, Beyoncé received ten nominations, including Album of the Year for I Am... Sasha Fierce, Record of the Year for \"Halo\", and Song of the Year for \"Single Ladies (Put a Ring on It)\", among others. She tied with Lauryn Hill for most Grammy nominations in a single year by a female artist. In 2010, Beyoncé was featured on Lady Gaga's single \"Telephone\" and its music video. The song topped the US Pop Songs chart, becoming the sixth number-one for both Beyoncé and Gaga, tying them with Mariah Carey for most number-ones since the Nielsen Top 40 airplay chart launched in 1992. \"Telephone\" received a Grammy Award nomination for Best Pop Collaboration with Vocals.\nAnswer: {'score': 0.9848712682723999, 'start': 352, 'end': 361, 'answer': 'Lady Gaga'}\n\nTop 2 | Score: 4.8595\nContext: On April 4, 2008, Beyoncé married Jay Z. She publicly revealed their marriage in a video montage at the listening party for her third studio album, I Am... Sasha Fierce, in Manhattan's Sony Club on October 22, 2008. I Am... Sasha Fierce was released on November 18, 2008 in the United States. The album formally introduces Beyoncé's alter ego Sasha Fierce, conceived during the making of her 2003 single \"Crazy in Love\", selling 482,000 copies in its first week, debuting atop the Billboard 200, and giving Beyoncé her third consecutive number-one album in the US. The album featured the number-one song \"Single Ladies (Put a Ring on It)\" and the top-five songs \"If I Were a Boy\" and \"Halo\". Achieving the accomplishment of becoming her longest-running Hot 100 single in her career, \"Halo\"'s success in the US helped Beyoncé attain more top-ten singles on the list than any other woman during the 2000s. It also included the successful \"Sweet Dreams\", and singles \"Diva\", \"Ego\", \"Broken-Hearted Girl\" and \"Video Phone\". The music video for \"Single Ladies\" has been parodied and imitated around the world, spawning the \"first major dance craze\" of the Internet age according to the Toronto Star. The video has won several awards, including Best Video at the 2009 MTV Europe Music Awards, the 2009 Scottish MOBO Awards, and the 2009 BET Awards. At the 2009 MTV Video Music Awards, the video was nominated for nine awards, ultimately winning three including Video of the Year. Its failure to win the Best Female Video category, which went to American country pop singer Taylor Swift's \"You Belong with Me\", led to Kanye West interrupting the ceremony and Beyoncé improvising a re-presentation of Swift's award during her own acceptance speech. In March 2009, Beyoncé embarked on the I Am... World Tour, her second headlining worldwide concert tour, consisting of 108 shows, grossing $119.5 million.\nAnswer: {'score': 0.01673775538802147, 'start': 1567, 'end': 1579, 'answer': 'Taylor Swift'}\n\nTop 3 | Score: 4.8595\nContext: Following the disbandment of Destiny's Child in June 2005, she released her second solo album, B'Day (2006), which contained hits \"Déjà Vu\", \"Irreplaceable\", and \"Beautiful Liar\". Beyoncé also ventured into acting, with a Golden Globe-nominated performance in Dreamgirls (2006), and starring roles in The Pink Panther (2006) and Obsessed (2009). Her marriage to rapper Jay Z and portrayal of Etta James in Cadillac Records (2008) influenced her third album, I Am... Sasha Fierce (2008), which saw the birth of her alter-ego Sasha Fierce and earned a record-setting six Grammy Awards in 2010, including Song of the Year for \"Single Ladies (Put a Ring on It)\". Beyoncé took a hiatus from music in 2010 and took over management of her career; her fourth album 4 (2011) was subsequently mellower in tone, exploring 1970s funk, 1980s pop, and 1990s soul. Her critically acclaimed fifth studio album, Beyoncé (2013), was distinguished from previous releases by its experimental production and exploration of darker themes.\nAnswer: {'score': 0.1364459991455078, 'start': 260, 'end': 270, 'answer': 'Dreamgirls'}\n\n====================================================================================================\nQuestion: 9: Who did they tie with for six top songs?\n\nTop 1 | Score: 4.8595\nContext: At the 52nd Annual Grammy Awards, Beyoncé received ten nominations, including Album of the Year for I Am... Sasha Fierce, Record of the Year for \"Halo\", and Song of the Year for \"Single Ladies (Put a Ring on It)\", among others. She tied with Lauryn Hill for most Grammy nominations in a single year by a female artist. In 2010, Beyoncé was featured on Lady Gaga's single \"Telephone\" and its music video. The song topped the US Pop Songs chart, becoming the sixth number-one for both Beyoncé and Gaga, tying them with Mariah Carey for most number-ones since the Nielsen Top 40 airplay chart launched in 1992. \"Telephone\" received a Grammy Award nomination for Best Pop Collaboration with Vocals.\nAnswer: {'score': 0.8457728028297424, 'start': 517, 'end': 529, 'answer': 'Mariah Carey'}\n\nTop 2 | Score: 4.8595\nContext: In 2001, she became the first African-American woman and second woman songwriter to win the Pop Songwriter of the Year award at the American Society of Composers, Authors, and Publishers Pop Music Awards. Beyoncé was the third woman to have writing credits on three number one songs (\"Irreplaceable\", \"Grillz\" and \"Check on It\") in the same year, after Carole King in 1971 and Mariah Carey in 1991. She is tied with American songwriter Diane Warren at third with nine songwriting credits on number-one singles. (The latter wrote her 9/11-motivated song \"I Was Here\" for 4.) In May 2011, Billboard magazine listed Beyoncé at number 17 on their list of the \"Top 20 Hot 100 Songwriters\", for having co-written eight singles that hit number one on the Billboard Hot 100 chart. She was one of only three women on that list.\nAnswer: {'score': 0.9207723736763, 'start': 436, 'end': 448, 'answer': 'Diane Warren'}\n\nTop 3 | Score: 4.8595\nContext: In 2001, she became the first African-American woman and second woman songwriter to win the Pop Songwriter of the Year award at the American Society of Composers, Authors, and Publishers Pop Music Awards. Beyoncé was the third woman to have writing credits on three number one songs (\"Irreplaceable\", \"Grillz\" and \"Check on It\") in the same year, after Carole King in 1971 and Mariah Carey in 1991. She is tied with American songwriter Diane Warren at third with nine songwriting credits on number-one singles. (The latter wrote her 9/11-motivated song \"I Was Here\" for 4.) In May 2011, Billboard magazine listed Beyoncé at number 17 on their list of the \"Top 20 Hot 100 Songwriters\", for having co-written eight singles that hit number one on the Billboard Hot 100 chart. She was one of only three women on that list.\nAnswer: {'score': 0.9207723736763, 'start': 436, 'end': 448, 'answer': 'Diane Warren'}\n\n====================================================================================================\nQuestion: 10: Who did Beyonce tie with for the most nominations in a year?\n\nTop 1 | Score: 4.8595\nContext: At the 52nd Annual Grammy Awards, Beyoncé received ten nominations, including Album of the Year for I Am... Sasha Fierce, Record of the Year for \"Halo\", and Song of the Year for \"Single Ladies (Put a Ring on It)\", among others. She tied with Lauryn Hill for most Grammy nominations in a single year by a female artist. In 2010, Beyoncé was featured on Lady Gaga's single \"Telephone\" and its music video. The song topped the US Pop Songs chart, becoming the sixth number-one for both Beyoncé and Gaga, tying them with Mariah Carey for most number-ones since the Nielsen Top 40 airplay chart launched in 1992. \"Telephone\" received a Grammy Award nomination for Best Pop Collaboration with Vocals.\nAnswer: {'score': 0.96852046251297, 'start': 242, 'end': 253, 'answer': 'Lauryn Hill'}\n\nTop 2 | Score: 4.8595\nContext: At the 52nd Annual Grammy Awards, Beyoncé received ten nominations, including Album of the Year for I Am... Sasha Fierce, Record of the Year for \"Halo\", and Song of the Year for \"Single Ladies (Put a Ring on It)\", among others. She tied with Lauryn Hill for most Grammy nominations in a single year by a female artist. In 2010, Beyoncé was featured on Lady Gaga's single \"Telephone\" and its music video. The song topped the US Pop Songs chart, becoming the sixth number-one for both Beyoncé and Gaga, tying them with Mariah Carey for most number-ones since the Nielsen Top 40 airplay chart launched in 1992. \"Telephone\" received a Grammy Award nomination for Best Pop Collaboration with Vocals.\nAnswer: {'score': 0.96852046251297, 'start': 242, 'end': 253, 'answer': 'Lauryn Hill'}\n\nTop 3 | Score: 4.8595\nContext: Beyoncé has won 20 Grammy Awards, both as a solo artist and member of Destiny's Child, making her the second most honored female artist by the Grammys, behind Alison Krauss and the most nominated woman in Grammy Award history with 52 nominations. \"Single Ladies (Put a Ring on It)\" won Song of the Year in 2010 while \"Say My Name\" and \"Crazy in Love\" had previously won Best R&B Song. Dangerously in Love, B'Day and I Am... Sasha Fierce have all won Best Contemporary R&B Album. Beyoncé set the record for the most Grammy awards won by a female artist in one night in 2010 when she won six awards, breaking the tie she previously held with Alicia Keys, Norah Jones, Alison Krauss, and Amy Winehouse, with Adele equaling this in 2012. Following her role in Dreamgirls she was nominated for Best Original Song for \"Listen\" and Best Actress at the Golden Globe Awards, and Outstanding Actress in a Motion Picture at the NAACP Image Awards. Beyoncé won two awards at the Broadcast Film Critics Association Awards 2006; Best Song for \"Listen\" and Best Original Soundtrack for Dreamgirls: Music from the Motion Picture.\nAnswer: {'score': 0.057660046964883804, 'start': 640, 'end': 679, 'answer': 'Alicia Keys, Norah Jones, Alison Krauss'}\n\n====================================================================================================\n",
          "output_type": "stream"
        }
      ],
      "execution_count": null
    },
    {
      "cell_type": "markdown",
      "source": [
        "## Embedding Context"
      ],
      "metadata": {
        "id": "vCqWDgnALTj1"
      }
    },
    {
      "cell_type": "code",
      "source": [
        "batch_size = 32\n",
        "embedding_column = \"context_embedding\"\n",
        "\n",
        "embedding_ds = raw_ds.map(\n",
        "    lambda batch: {embedding_column: get_embeddings(batch[\"context\"])},\n",
        "    batched=True,\n",
        "    batch_size=batch_size\n",
        ")\n",
        "\n",
        "embedding_ds.add_faiss_index(column=embedding_column)"
      ],
      "metadata": {
        "trusted": true,
        "execution": {
          "iopub.status.busy": "2025-03-05T06:50:19.758253Z",
          "iopub.execute_input": "2025-03-05T06:50:19.758556Z",
          "iopub.status.idle": "2025-03-05T06:50:45.814277Z",
          "shell.execute_reply.started": "2025-03-05T06:50:19.758533Z",
          "shell.execute_reply": "2025-03-05T06:50:45.813482Z"
        },
        "colab": {
          "referenced_widgets": [
            "cbd024023b494674891c3277723414eb",
            "645e8734db894bd79841f4eb7f97f358"
          ]
        },
        "id": "m8ubsv3ILTj1",
        "outputId": "dd118da8-8c76-4d32-8b0c-406dee83cf22"
      },
      "outputs": [
        {
          "output_type": "display_data",
          "data": {
            "text/plain": "Map:   0%|          | 0/3207 [00:00<?, ? examples/s]",
            "application/vnd.jupyter.widget-view+json": {
              "version_major": 2,
              "version_minor": 0,
              "model_id": "cbd024023b494674891c3277723414eb"
            }
          },
          "metadata": {}
        },
        {
          "output_type": "display_data",
          "data": {
            "text/plain": "  0%|          | 0/4 [00:00<?, ?it/s]",
            "application/vnd.jupyter.widget-view+json": {
              "version_major": 2,
              "version_minor": 0,
              "model_id": "645e8734db894bd79841f4eb7f97f358"
            }
          },
          "metadata": {}
        },
        {
          "execution_count": 29,
          "output_type": "execute_result",
          "data": {
            "text/plain": "Dataset({\n    features: ['id', 'context', 'question', 'answers', 'context_embedding'],\n    num_rows: 3207\n})"
          },
          "metadata": {}
        }
      ],
      "execution_count": null
    },
    {
      "cell_type": "markdown",
      "source": [
        "### QA"
      ],
      "metadata": {
        "id": "cBwX9t-9LTj2"
      }
    },
    {
      "cell_type": "markdown",
      "source": [
        "#### Find similar samples based on the given question."
      ],
      "metadata": {
        "id": "-xnuM3yBLTj2"
      }
    },
    {
      "cell_type": "code",
      "source": [
        "input_question = \"When did Beyonce start becoming popular?\"\n",
        "top_k = 3\n",
        "\n",
        "input_question_embedding = get_embeddings([input_question])\n",
        "\n",
        "scores, samples = embedding_ds.get_nearest_examples(\n",
        "    embedding_column,\n",
        "    input_question_embedding,\n",
        "    k=top_k\n",
        ")\n",
        "\n",
        "for idx, score in enumerate(scores):\n",
        "    print(f'Top {idx + 1}\\tScore: {score}')\n",
        "    print(f'Question: {samples[\"question\"][idx]}')\n",
        "    print(f'Context: {samples[\"context\"][idx]}')\n",
        "    print()"
      ],
      "metadata": {
        "trusted": true,
        "execution": {
          "iopub.status.busy": "2025-03-05T07:02:35.612352Z",
          "iopub.execute_input": "2025-03-05T07:02:35.612729Z",
          "iopub.status.idle": "2025-03-05T07:02:35.627410Z",
          "shell.execute_reply.started": "2025-03-05T07:02:35.612682Z",
          "shell.execute_reply": "2025-03-05T07:02:35.626754Z"
        },
        "id": "xF2j5XYCLTj2",
        "outputId": "0e736c02-b765-49ad-e501-40cdfb12757c"
      },
      "outputs": [
        {
          "name": "stdout",
          "text": "Top 1\tScore: 31.23427391052246\nQuestion: Beyonce than appeared again on the Time 100 list in what year?\nContext: In The New Yorker music critic Jody Rosen described Beyoncé as \"the most important and compelling popular musician of the twenty-first century..... the result, the logical end point, of a century-plus of pop.\" When The Guardian named her Artist of the Decade, Llewyn-Smith wrote, \"Why Beyoncé? [...] Because she made not one but two of the decade's greatest singles, with Crazy in Love and Single Ladies (Put a Ring on It), not to mention her hits with Destiny's Child; and this was the decade when singles – particularly R&B singles – regained their status as pop's favourite medium. [...] [She] and not any superannuated rock star was arguably the greatest live performer of the past 10 years.\" In 2013, Beyoncé made the Time 100 list, Baz Luhrmann writing \"no one has that voice, no one moves the way she moves, no one can hold an audience the way she does... When Beyoncé does an album, when Beyoncé sings a song, when Beyoncé does anything, it's an event, and it's broadly influential. Right now, she is the heir-apparent diva of the USA — the reigning national voice.\" In 2014, Beyoncé was listed again on the Time 100 and also featured on the cover of the issue.\n\nTop 2\tScore: 31.23427391052246\nQuestion: What did the Guardian name her?\nContext: In The New Yorker music critic Jody Rosen described Beyoncé as \"the most important and compelling popular musician of the twenty-first century..... the result, the logical end point, of a century-plus of pop.\" When The Guardian named her Artist of the Decade, Llewyn-Smith wrote, \"Why Beyoncé? [...] Because she made not one but two of the decade's greatest singles, with Crazy in Love and Single Ladies (Put a Ring on It), not to mention her hits with Destiny's Child; and this was the decade when singles – particularly R&B singles – regained their status as pop's favourite medium. [...] [She] and not any superannuated rock star was arguably the greatest live performer of the past 10 years.\" In 2013, Beyoncé made the Time 100 list, Baz Luhrmann writing \"no one has that voice, no one moves the way she moves, no one can hold an audience the way she does... When Beyoncé does an album, when Beyoncé sings a song, when Beyoncé does anything, it's an event, and it's broadly influential. Right now, she is the heir-apparent diva of the USA — the reigning national voice.\" In 2014, Beyoncé was listed again on the Time 100 and also featured on the cover of the issue.\n\nTop 3\tScore: 31.23427391052246\nQuestion: When did Beyonce first make the Time 100 List?\nContext: In The New Yorker music critic Jody Rosen described Beyoncé as \"the most important and compelling popular musician of the twenty-first century..... the result, the logical end point, of a century-plus of pop.\" When The Guardian named her Artist of the Decade, Llewyn-Smith wrote, \"Why Beyoncé? [...] Because she made not one but two of the decade's greatest singles, with Crazy in Love and Single Ladies (Put a Ring on It), not to mention her hits with Destiny's Child; and this was the decade when singles – particularly R&B singles – regained their status as pop's favourite medium. [...] [She] and not any superannuated rock star was arguably the greatest live performer of the past 10 years.\" In 2013, Beyoncé made the Time 100 list, Baz Luhrmann writing \"no one has that voice, no one moves the way she moves, no one can hold an audience the way she does... When Beyoncé does an album, when Beyoncé sings a song, when Beyoncé does anything, it's an event, and it's broadly influential. Right now, she is the heir-apparent diva of the USA — the reigning national voice.\" In 2014, Beyoncé was listed again on the Time 100 and also featured on the cover of the issue.\n\n",
          "output_type": "stream"
        }
      ],
      "execution_count": null
    },
    {
      "cell_type": "markdown",
      "source": [
        "#### Use the QA model to extract the answer from the retrieved Context."
      ],
      "metadata": {
        "id": "IBhQaPIeLTj2"
      }
    },
    {
      "cell_type": "code",
      "source": [
        "print(f'Input question: {input_question}')\n",
        "for idx, score in enumerate(scores):\n",
        "    context = samples[\"context\"][idx]\n",
        "    answer = qa_pipeline(question=input_question, context=context)\n",
        "\n",
        "    print(f'Top {idx + 1} | Score: {score:.4f}')\n",
        "    print(f'Context: {context}')\n",
        "    print(f'Answer: {answer}')\n",
        "    print()"
      ],
      "metadata": {
        "trusted": true,
        "execution": {
          "iopub.status.busy": "2025-03-05T06:53:11.461437Z",
          "iopub.execute_input": "2025-03-05T06:53:11.461791Z",
          "iopub.status.idle": "2025-03-05T06:53:11.524025Z",
          "shell.execute_reply.started": "2025-03-05T06:53:11.461766Z",
          "shell.execute_reply": "2025-03-05T06:53:11.523351Z"
        },
        "id": "WGkjVqNdLTj2",
        "outputId": "aeb368fc-1d5d-47d4-8ae6-61e32bc04933"
      },
      "outputs": [
        {
          "name": "stdout",
          "text": "Input question: When did Beyonce start becoming popular?\nTop 1 | Score: 31.2343\nContext: In The New Yorker music critic Jody Rosen described Beyoncé as \"the most important and compelling popular musician of the twenty-first century..... the result, the logical end point, of a century-plus of pop.\" When The Guardian named her Artist of the Decade, Llewyn-Smith wrote, \"Why Beyoncé? [...] Because she made not one but two of the decade's greatest singles, with Crazy in Love and Single Ladies (Put a Ring on It), not to mention her hits with Destiny's Child; and this was the decade when singles – particularly R&B singles – regained their status as pop's favourite medium. [...] [She] and not any superannuated rock star was arguably the greatest live performer of the past 10 years.\" In 2013, Beyoncé made the Time 100 list, Baz Luhrmann writing \"no one has that voice, no one moves the way she moves, no one can hold an audience the way she does... When Beyoncé does an album, when Beyoncé sings a song, when Beyoncé does anything, it's an event, and it's broadly influential. Right now, she is the heir-apparent diva of the USA — the reigning national voice.\" In 2014, Beyoncé was listed again on the Time 100 and also featured on the cover of the issue.\nAnswer: {'score': 0.2202032059431076, 'start': 122, 'end': 142, 'answer': 'twenty-first century'}\n\nTop 2 | Score: 31.2343\nContext: In The New Yorker music critic Jody Rosen described Beyoncé as \"the most important and compelling popular musician of the twenty-first century..... the result, the logical end point, of a century-plus of pop.\" When The Guardian named her Artist of the Decade, Llewyn-Smith wrote, \"Why Beyoncé? [...] Because she made not one but two of the decade's greatest singles, with Crazy in Love and Single Ladies (Put a Ring on It), not to mention her hits with Destiny's Child; and this was the decade when singles – particularly R&B singles – regained their status as pop's favourite medium. [...] [She] and not any superannuated rock star was arguably the greatest live performer of the past 10 years.\" In 2013, Beyoncé made the Time 100 list, Baz Luhrmann writing \"no one has that voice, no one moves the way she moves, no one can hold an audience the way she does... When Beyoncé does an album, when Beyoncé sings a song, when Beyoncé does anything, it's an event, and it's broadly influential. Right now, she is the heir-apparent diva of the USA — the reigning national voice.\" In 2014, Beyoncé was listed again on the Time 100 and also featured on the cover of the issue.\nAnswer: {'score': 0.2202032059431076, 'start': 122, 'end': 142, 'answer': 'twenty-first century'}\n\nTop 3 | Score: 31.2343\nContext: In The New Yorker music critic Jody Rosen described Beyoncé as \"the most important and compelling popular musician of the twenty-first century..... the result, the logical end point, of a century-plus of pop.\" When The Guardian named her Artist of the Decade, Llewyn-Smith wrote, \"Why Beyoncé? [...] Because she made not one but two of the decade's greatest singles, with Crazy in Love and Single Ladies (Put a Ring on It), not to mention her hits with Destiny's Child; and this was the decade when singles – particularly R&B singles – regained their status as pop's favourite medium. [...] [She] and not any superannuated rock star was arguably the greatest live performer of the past 10 years.\" In 2013, Beyoncé made the Time 100 list, Baz Luhrmann writing \"no one has that voice, no one moves the way she moves, no one can hold an audience the way she does... When Beyoncé does an album, when Beyoncé sings a song, when Beyoncé does anything, it's an event, and it's broadly influential. Right now, she is the heir-apparent diva of the USA — the reigning national voice.\" In 2014, Beyoncé was listed again on the Time 100 and also featured on the cover of the issue.\nAnswer: {'score': 0.2202032059431076, 'start': 122, 'end': 142, 'answer': 'twenty-first century'}\n\n",
          "output_type": "stream"
        }
      ],
      "execution_count": null
    },
    {
      "cell_type": "markdown",
      "source": [
        "### Test"
      ],
      "metadata": {
        "id": "Xkd9wl3jLTj2"
      }
    },
    {
      "cell_type": "code",
      "source": [
        "test_question = embedding_ds[\"question\"][200:210]\n",
        "test_question"
      ],
      "metadata": {
        "trusted": true,
        "execution": {
          "iopub.status.busy": "2025-03-05T06:45:24.601194Z",
          "iopub.execute_input": "2025-03-05T06:45:24.601493Z",
          "iopub.status.idle": "2025-03-05T06:45:24.610654Z",
          "shell.execute_reply.started": "2025-03-05T06:45:24.601466Z",
          "shell.execute_reply": "2025-03-05T06:45:24.609772Z"
        },
        "id": "y6_jUxmILTj3",
        "outputId": "a9715518-027c-451b-8f33-2f1f63d2add3"
      },
      "outputs": [
        {
          "execution_count": 24,
          "output_type": "execute_result",
          "data": {
            "text/plain": "['How many awards was Beyonce nominated for at the 52nd Grammy Awards?',\n 'Beyonce tied with which artist for most nominations by a female artist?',\n 'In 2010, Beyonce worked with which other famous singer?',\n 'How many number one singles did Beyonce now have after the song \"Telephone\"?',\n 'Beyonce tied who for most number one singles by a female?',\n 'Beyonce received how many nominations at the 52nd Annual Grammy Awards?',\n 'What song was the sixth first place song for Beyonce?',\n 'Who else appeared with Beyonce in Telephone?',\n 'Who did they tie with for six top songs?',\n 'Who did Beyonce tie with for the most nominations in a year?']"
          },
          "metadata": {}
        }
      ],
      "execution_count": null
    },
    {
      "cell_type": "code",
      "source": [
        "test_datasets = load_dataset(\"squad_v2\", split=\"validation\")\n",
        "test_question = embedding_ds[\"question\"][200:210]\n",
        "\n",
        "top_k = 3\n",
        "\n",
        "for idx, input_question in enumerate(test_question):\n",
        "    input_question_embedding = get_embeddings([input_question])\n",
        "\n",
        "    scores, samples = embedding_ds.get_nearest_examples(\n",
        "        embedding_column, input_question_embedding, k=top_k\n",
        "    )\n",
        "\n",
        "    print(f\"Question: {idx+1}: {input_question}\\n\")\n",
        "    for jdx, scores in enumerate(scores):\n",
        "        context = samples[\"context\"][jdx]\n",
        "        answer = qa_pipeline(question=input_question, context=context)\n",
        "\n",
        "        print(f\"Top {jdx+1} | Score: {score:.4f}\")\n",
        "        print(f\"Context: {context}\")\n",
        "        print(f\"Answer: {answer}\")\n",
        "        print()\n",
        "    print(\"=\"*100)"
      ],
      "metadata": {
        "trusted": true,
        "execution": {
          "iopub.status.busy": "2025-03-05T06:54:14.141272Z",
          "iopub.execute_input": "2025-03-05T06:54:14.141573Z",
          "iopub.status.idle": "2025-03-05T06:54:16.617099Z",
          "shell.execute_reply.started": "2025-03-05T06:54:14.141550Z",
          "shell.execute_reply": "2025-03-05T06:54:16.616312Z"
        },
        "collapsed": true,
        "jupyter": {
          "outputs_hidden": true
        },
        "id": "rI2drERPLTj3",
        "outputId": "568731fb-3449-4b8b-f46f-02cc1a5cd122"
      },
      "outputs": [
        {
          "name": "stdout",
          "text": "The history saving thread hit an unexpected error (OperationalError('attempt to write a readonly database')).History will not be written to the database.\nQuestion: 1: How many awards was Beyonce nominated for at the 52nd Grammy Awards?\n\nTop 1 | Score: 31.2343\nContext: In The New Yorker music critic Jody Rosen described Beyoncé as \"the most important and compelling popular musician of the twenty-first century..... the result, the logical end point, of a century-plus of pop.\" When The Guardian named her Artist of the Decade, Llewyn-Smith wrote, \"Why Beyoncé? [...] Because she made not one but two of the decade's greatest singles, with Crazy in Love and Single Ladies (Put a Ring on It), not to mention her hits with Destiny's Child; and this was the decade when singles – particularly R&B singles – regained their status as pop's favourite medium. [...] [She] and not any superannuated rock star was arguably the greatest live performer of the past 10 years.\" In 2013, Beyoncé made the Time 100 list, Baz Luhrmann writing \"no one has that voice, no one moves the way she moves, no one can hold an audience the way she does... When Beyoncé does an album, when Beyoncé sings a song, when Beyoncé does anything, it's an event, and it's broadly influential. Right now, she is the heir-apparent diva of the USA — the reigning national voice.\" In 2014, Beyoncé was listed again on the Time 100 and also featured on the cover of the issue.\nAnswer: {'score': 0.08276139944791794, 'start': 329, 'end': 332, 'answer': 'two'}\n\nTop 2 | Score: 31.2343\nContext: In The New Yorker music critic Jody Rosen described Beyoncé as \"the most important and compelling popular musician of the twenty-first century..... the result, the logical end point, of a century-plus of pop.\" When The Guardian named her Artist of the Decade, Llewyn-Smith wrote, \"Why Beyoncé? [...] Because she made not one but two of the decade's greatest singles, with Crazy in Love and Single Ladies (Put a Ring on It), not to mention her hits with Destiny's Child; and this was the decade when singles – particularly R&B singles – regained their status as pop's favourite medium. [...] [She] and not any superannuated rock star was arguably the greatest live performer of the past 10 years.\" In 2013, Beyoncé made the Time 100 list, Baz Luhrmann writing \"no one has that voice, no one moves the way she moves, no one can hold an audience the way she does... When Beyoncé does an album, when Beyoncé sings a song, when Beyoncé does anything, it's an event, and it's broadly influential. Right now, she is the heir-apparent diva of the USA — the reigning national voice.\" In 2014, Beyoncé was listed again on the Time 100 and also featured on the cover of the issue.\nAnswer: {'score': 0.08276139944791794, 'start': 329, 'end': 332, 'answer': 'two'}\n\nTop 3 | Score: 31.2343\nContext: In The New Yorker music critic Jody Rosen described Beyoncé as \"the most important and compelling popular musician of the twenty-first century..... the result, the logical end point, of a century-plus of pop.\" When The Guardian named her Artist of the Decade, Llewyn-Smith wrote, \"Why Beyoncé? [...] Because she made not one but two of the decade's greatest singles, with Crazy in Love and Single Ladies (Put a Ring on It), not to mention her hits with Destiny's Child; and this was the decade when singles – particularly R&B singles – regained their status as pop's favourite medium. [...] [She] and not any superannuated rock star was arguably the greatest live performer of the past 10 years.\" In 2013, Beyoncé made the Time 100 list, Baz Luhrmann writing \"no one has that voice, no one moves the way she moves, no one can hold an audience the way she does... When Beyoncé does an album, when Beyoncé sings a song, when Beyoncé does anything, it's an event, and it's broadly influential. Right now, she is the heir-apparent diva of the USA — the reigning national voice.\" In 2014, Beyoncé was listed again on the Time 100 and also featured on the cover of the issue.\nAnswer: {'score': 0.08276139944791794, 'start': 329, 'end': 332, 'answer': 'two'}\n\n====================================================================================================\nQuestion: 2: Beyonce tied with which artist for most nominations by a female artist?\n\nTop 1 | Score: 31.2343\nContext: Beyoncé has won 20 Grammy Awards, both as a solo artist and member of Destiny's Child, making her the second most honored female artist by the Grammys, behind Alison Krauss and the most nominated woman in Grammy Award history with 52 nominations. \"Single Ladies (Put a Ring on It)\" won Song of the Year in 2010 while \"Say My Name\" and \"Crazy in Love\" had previously won Best R&B Song. Dangerously in Love, B'Day and I Am... Sasha Fierce have all won Best Contemporary R&B Album. Beyoncé set the record for the most Grammy awards won by a female artist in one night in 2010 when she won six awards, breaking the tie she previously held with Alicia Keys, Norah Jones, Alison Krauss, and Amy Winehouse, with Adele equaling this in 2012. Following her role in Dreamgirls she was nominated for Best Original Song for \"Listen\" and Best Actress at the Golden Globe Awards, and Outstanding Actress in a Motion Picture at the NAACP Image Awards. Beyoncé won two awards at the Broadcast Film Critics Association Awards 2006; Best Song for \"Listen\" and Best Original Soundtrack for Dreamgirls: Music from the Motion Picture.\nAnswer: {'score': 0.8593775033950806, 'start': 159, 'end': 172, 'answer': 'Alison Krauss'}\n\nTop 2 | Score: 31.2343\nContext: Beyoncé has won 20 Grammy Awards, both as a solo artist and member of Destiny's Child, making her the second most honored female artist by the Grammys, behind Alison Krauss and the most nominated woman in Grammy Award history with 52 nominations. \"Single Ladies (Put a Ring on It)\" won Song of the Year in 2010 while \"Say My Name\" and \"Crazy in Love\" had previously won Best R&B Song. Dangerously in Love, B'Day and I Am... Sasha Fierce have all won Best Contemporary R&B Album. Beyoncé set the record for the most Grammy awards won by a female artist in one night in 2010 when she won six awards, breaking the tie she previously held with Alicia Keys, Norah Jones, Alison Krauss, and Amy Winehouse, with Adele equaling this in 2012. Following her role in Dreamgirls she was nominated for Best Original Song for \"Listen\" and Best Actress at the Golden Globe Awards, and Outstanding Actress in a Motion Picture at the NAACP Image Awards. Beyoncé won two awards at the Broadcast Film Critics Association Awards 2006; Best Song for \"Listen\" and Best Original Soundtrack for Dreamgirls: Music from the Motion Picture.\nAnswer: {'score': 0.8593775033950806, 'start': 159, 'end': 172, 'answer': 'Alison Krauss'}\n\nTop 3 | Score: 31.2343\nContext: Beyoncé has won 20 Grammy Awards, both as a solo artist and member of Destiny's Child, making her the second most honored female artist by the Grammys, behind Alison Krauss and the most nominated woman in Grammy Award history with 52 nominations. \"Single Ladies (Put a Ring on It)\" won Song of the Year in 2010 while \"Say My Name\" and \"Crazy in Love\" had previously won Best R&B Song. Dangerously in Love, B'Day and I Am... Sasha Fierce have all won Best Contemporary R&B Album. Beyoncé set the record for the most Grammy awards won by a female artist in one night in 2010 when she won six awards, breaking the tie she previously held with Alicia Keys, Norah Jones, Alison Krauss, and Amy Winehouse, with Adele equaling this in 2012. Following her role in Dreamgirls she was nominated for Best Original Song for \"Listen\" and Best Actress at the Golden Globe Awards, and Outstanding Actress in a Motion Picture at the NAACP Image Awards. Beyoncé won two awards at the Broadcast Film Critics Association Awards 2006; Best Song for \"Listen\" and Best Original Soundtrack for Dreamgirls: Music from the Motion Picture.\nAnswer: {'score': 0.8593775033950806, 'start': 159, 'end': 172, 'answer': 'Alison Krauss'}\n\n====================================================================================================\nQuestion: 3: In 2010, Beyonce worked with which other famous singer?\n\nTop 1 | Score: 31.2343\nContext: Beyoncé has stated that she is personally inspired by US First Lady Michelle Obama, saying \"She proves you can do it all\" and she has described Oprah Winfrey as \"the definition of inspiration and a strong woman\". She has also discussed how Jay Z is a continuing inspiration to her, both with what she describes as his lyrical genius and in the obstacles he has overcome in his life. Beyoncé has expressed admiration for the artist Jean-Michel Basquiat, posting in a letter \"what I find in the work of Jean-Michel Basquiat, I search for in every day in music... he is lyrical and raw\". In February 2013, Beyoncé said that Madonna inspired her to take control of her own career. She commented: \"I think about Madonna and how she took all of the great things she achieved and started the label and developed other artists. But there are not enough of those women.\".\nAnswer: {'score': 0.8534772396087646, 'start': 431, 'end': 451, 'answer': 'Jean-Michel Basquiat'}\n\nTop 2 | Score: 31.2343\nContext: Beyoncé has stated that she is personally inspired by US First Lady Michelle Obama, saying \"She proves you can do it all\" and she has described Oprah Winfrey as \"the definition of inspiration and a strong woman\". She has also discussed how Jay Z is a continuing inspiration to her, both with what she describes as his lyrical genius and in the obstacles he has overcome in his life. Beyoncé has expressed admiration for the artist Jean-Michel Basquiat, posting in a letter \"what I find in the work of Jean-Michel Basquiat, I search for in every day in music... he is lyrical and raw\". In February 2013, Beyoncé said that Madonna inspired her to take control of her own career. She commented: \"I think about Madonna and how she took all of the great things she achieved and started the label and developed other artists. But there are not enough of those women.\".\nAnswer: {'score': 0.8534772396087646, 'start': 431, 'end': 451, 'answer': 'Jean-Michel Basquiat'}\n\nTop 3 | Score: 31.2343\nContext: Beyoncé has stated that she is personally inspired by US First Lady Michelle Obama, saying \"She proves you can do it all\" and she has described Oprah Winfrey as \"the definition of inspiration and a strong woman\". She has also discussed how Jay Z is a continuing inspiration to her, both with what she describes as his lyrical genius and in the obstacles he has overcome in his life. Beyoncé has expressed admiration for the artist Jean-Michel Basquiat, posting in a letter \"what I find in the work of Jean-Michel Basquiat, I search for in every day in music... he is lyrical and raw\". In February 2013, Beyoncé said that Madonna inspired her to take control of her own career. She commented: \"I think about Madonna and how she took all of the great things she achieved and started the label and developed other artists. But there are not enough of those women.\".\nAnswer: {'score': 0.8534772396087646, 'start': 431, 'end': 451, 'answer': 'Jean-Michel Basquiat'}\n\n====================================================================================================\nQuestion: 4: How many number one singles did Beyonce now have after the song \"Telephone\"?\n\nTop 1 | Score: 31.2343\nContext: In The New Yorker music critic Jody Rosen described Beyoncé as \"the most important and compelling popular musician of the twenty-first century..... the result, the logical end point, of a century-plus of pop.\" When The Guardian named her Artist of the Decade, Llewyn-Smith wrote, \"Why Beyoncé? [...] Because she made not one but two of the decade's greatest singles, with Crazy in Love and Single Ladies (Put a Ring on It), not to mention her hits with Destiny's Child; and this was the decade when singles – particularly R&B singles – regained their status as pop's favourite medium. [...] [She] and not any superannuated rock star was arguably the greatest live performer of the past 10 years.\" In 2013, Beyoncé made the Time 100 list, Baz Luhrmann writing \"no one has that voice, no one moves the way she moves, no one can hold an audience the way she does... When Beyoncé does an album, when Beyoncé sings a song, when Beyoncé does anything, it's an event, and it's broadly influential. Right now, she is the heir-apparent diva of the USA — the reigning national voice.\" In 2014, Beyoncé was listed again on the Time 100 and also featured on the cover of the issue.\nAnswer: {'score': 0.506379246711731, 'start': 329, 'end': 332, 'answer': 'two'}\n\nTop 2 | Score: 31.2343\nContext: In The New Yorker music critic Jody Rosen described Beyoncé as \"the most important and compelling popular musician of the twenty-first century..... the result, the logical end point, of a century-plus of pop.\" When The Guardian named her Artist of the Decade, Llewyn-Smith wrote, \"Why Beyoncé? [...] Because she made not one but two of the decade's greatest singles, with Crazy in Love and Single Ladies (Put a Ring on It), not to mention her hits with Destiny's Child; and this was the decade when singles – particularly R&B singles – regained their status as pop's favourite medium. [...] [She] and not any superannuated rock star was arguably the greatest live performer of the past 10 years.\" In 2013, Beyoncé made the Time 100 list, Baz Luhrmann writing \"no one has that voice, no one moves the way she moves, no one can hold an audience the way she does... When Beyoncé does an album, when Beyoncé sings a song, when Beyoncé does anything, it's an event, and it's broadly influential. Right now, she is the heir-apparent diva of the USA — the reigning national voice.\" In 2014, Beyoncé was listed again on the Time 100 and also featured on the cover of the issue.\nAnswer: {'score': 0.506379246711731, 'start': 329, 'end': 332, 'answer': 'two'}\n\nTop 3 | Score: 31.2343\nContext: In The New Yorker music critic Jody Rosen described Beyoncé as \"the most important and compelling popular musician of the twenty-first century..... the result, the logical end point, of a century-plus of pop.\" When The Guardian named her Artist of the Decade, Llewyn-Smith wrote, \"Why Beyoncé? [...] Because she made not one but two of the decade's greatest singles, with Crazy in Love and Single Ladies (Put a Ring on It), not to mention her hits with Destiny's Child; and this was the decade when singles – particularly R&B singles – regained their status as pop's favourite medium. [...] [She] and not any superannuated rock star was arguably the greatest live performer of the past 10 years.\" In 2013, Beyoncé made the Time 100 list, Baz Luhrmann writing \"no one has that voice, no one moves the way she moves, no one can hold an audience the way she does... When Beyoncé does an album, when Beyoncé sings a song, when Beyoncé does anything, it's an event, and it's broadly influential. Right now, she is the heir-apparent diva of the USA — the reigning national voice.\" In 2014, Beyoncé was listed again on the Time 100 and also featured on the cover of the issue.\nAnswer: {'score': 0.506379246711731, 'start': 329, 'end': 332, 'answer': 'two'}\n\n====================================================================================================\nQuestion: 5: Beyonce tied who for most number one singles by a female?\n\nTop 1 | Score: 31.2343\nContext: In 2001, she became the first African-American woman and second woman songwriter to win the Pop Songwriter of the Year award at the American Society of Composers, Authors, and Publishers Pop Music Awards. Beyoncé was the third woman to have writing credits on three number one songs (\"Irreplaceable\", \"Grillz\" and \"Check on It\") in the same year, after Carole King in 1971 and Mariah Carey in 1991. She is tied with American songwriter Diane Warren at third with nine songwriting credits on number-one singles. (The latter wrote her 9/11-motivated song \"I Was Here\" for 4.) In May 2011, Billboard magazine listed Beyoncé at number 17 on their list of the \"Top 20 Hot 100 Songwriters\", for having co-written eight singles that hit number one on the Billboard Hot 100 chart. She was one of only three women on that list.\nAnswer: {'score': 0.9699186682701111, 'start': 436, 'end': 448, 'answer': 'Diane Warren'}\n\nTop 2 | Score: 31.2343\nContext: In 2001, she became the first African-American woman and second woman songwriter to win the Pop Songwriter of the Year award at the American Society of Composers, Authors, and Publishers Pop Music Awards. Beyoncé was the third woman to have writing credits on three number one songs (\"Irreplaceable\", \"Grillz\" and \"Check on It\") in the same year, after Carole King in 1971 and Mariah Carey in 1991. She is tied with American songwriter Diane Warren at third with nine songwriting credits on number-one singles. (The latter wrote her 9/11-motivated song \"I Was Here\" for 4.) In May 2011, Billboard magazine listed Beyoncé at number 17 on their list of the \"Top 20 Hot 100 Songwriters\", for having co-written eight singles that hit number one on the Billboard Hot 100 chart. She was one of only three women on that list.\nAnswer: {'score': 0.9699186682701111, 'start': 436, 'end': 448, 'answer': 'Diane Warren'}\n\nTop 3 | Score: 31.2343\nContext: In 2001, she became the first African-American woman and second woman songwriter to win the Pop Songwriter of the Year award at the American Society of Composers, Authors, and Publishers Pop Music Awards. Beyoncé was the third woman to have writing credits on three number one songs (\"Irreplaceable\", \"Grillz\" and \"Check on It\") in the same year, after Carole King in 1971 and Mariah Carey in 1991. She is tied with American songwriter Diane Warren at third with nine songwriting credits on number-one singles. (The latter wrote her 9/11-motivated song \"I Was Here\" for 4.) In May 2011, Billboard magazine listed Beyoncé at number 17 on their list of the \"Top 20 Hot 100 Songwriters\", for having co-written eight singles that hit number one on the Billboard Hot 100 chart. She was one of only three women on that list.\nAnswer: {'score': 0.9699186682701111, 'start': 436, 'end': 448, 'answer': 'Diane Warren'}\n\n====================================================================================================\nQuestion: 6: Beyonce received how many nominations at the 52nd Annual Grammy Awards?\n\nTop 1 | Score: 31.2343\nContext: Beyoncé has won 20 Grammy Awards, both as a solo artist and member of Destiny's Child, making her the second most honored female artist by the Grammys, behind Alison Krauss and the most nominated woman in Grammy Award history with 52 nominations. \"Single Ladies (Put a Ring on It)\" won Song of the Year in 2010 while \"Say My Name\" and \"Crazy in Love\" had previously won Best R&B Song. Dangerously in Love, B'Day and I Am... Sasha Fierce have all won Best Contemporary R&B Album. Beyoncé set the record for the most Grammy awards won by a female artist in one night in 2010 when she won six awards, breaking the tie she previously held with Alicia Keys, Norah Jones, Alison Krauss, and Amy Winehouse, with Adele equaling this in 2012. Following her role in Dreamgirls she was nominated for Best Original Song for \"Listen\" and Best Actress at the Golden Globe Awards, and Outstanding Actress in a Motion Picture at the NAACP Image Awards. Beyoncé won two awards at the Broadcast Film Critics Association Awards 2006; Best Song for \"Listen\" and Best Original Soundtrack for Dreamgirls: Music from the Motion Picture.\nAnswer: {'score': 0.8794466257095337, 'start': 231, 'end': 233, 'answer': '52'}\n\nTop 2 | Score: 31.2343\nContext: Beyoncé has won 20 Grammy Awards, both as a solo artist and member of Destiny's Child, making her the second most honored female artist by the Grammys, behind Alison Krauss and the most nominated woman in Grammy Award history with 52 nominations. \"Single Ladies (Put a Ring on It)\" won Song of the Year in 2010 while \"Say My Name\" and \"Crazy in Love\" had previously won Best R&B Song. Dangerously in Love, B'Day and I Am... Sasha Fierce have all won Best Contemporary R&B Album. Beyoncé set the record for the most Grammy awards won by a female artist in one night in 2010 when she won six awards, breaking the tie she previously held with Alicia Keys, Norah Jones, Alison Krauss, and Amy Winehouse, with Adele equaling this in 2012. Following her role in Dreamgirls she was nominated for Best Original Song for \"Listen\" and Best Actress at the Golden Globe Awards, and Outstanding Actress in a Motion Picture at the NAACP Image Awards. Beyoncé won two awards at the Broadcast Film Critics Association Awards 2006; Best Song for \"Listen\" and Best Original Soundtrack for Dreamgirls: Music from the Motion Picture.\nAnswer: {'score': 0.8794466257095337, 'start': 231, 'end': 233, 'answer': '52'}\n\nTop 3 | Score: 31.2343\nContext: Beyoncé has won 20 Grammy Awards, both as a solo artist and member of Destiny's Child, making her the second most honored female artist by the Grammys, behind Alison Krauss and the most nominated woman in Grammy Award history with 52 nominations. \"Single Ladies (Put a Ring on It)\" won Song of the Year in 2010 while \"Say My Name\" and \"Crazy in Love\" had previously won Best R&B Song. Dangerously in Love, B'Day and I Am... Sasha Fierce have all won Best Contemporary R&B Album. Beyoncé set the record for the most Grammy awards won by a female artist in one night in 2010 when she won six awards, breaking the tie she previously held with Alicia Keys, Norah Jones, Alison Krauss, and Amy Winehouse, with Adele equaling this in 2012. Following her role in Dreamgirls she was nominated for Best Original Song for \"Listen\" and Best Actress at the Golden Globe Awards, and Outstanding Actress in a Motion Picture at the NAACP Image Awards. Beyoncé won two awards at the Broadcast Film Critics Association Awards 2006; Best Song for \"Listen\" and Best Original Soundtrack for Dreamgirls: Music from the Motion Picture.\nAnswer: {'score': 0.8794466257095337, 'start': 231, 'end': 233, 'answer': '52'}\n\n====================================================================================================\nQuestion: 7: What song was the sixth first place song for Beyonce?\n\nTop 1 | Score: 31.2343\nContext: To promote the film, production continued the trend established during Skyfall's production of releasing still images of clapperboards and video blogs on Eon's official social media accounts.\nAnswer: {'score': 0.5859753489494324, 'start': 71, 'end': 78, 'answer': 'Skyfall'}\n\nTop 2 | Score: 31.2343\nContext: To promote the film, production continued the trend established during Skyfall's production of releasing still images of clapperboards and video blogs on Eon's official social media accounts.\nAnswer: {'score': 0.5859753489494324, 'start': 71, 'end': 78, 'answer': 'Skyfall'}\n\nTop 3 | Score: 31.2343\nContext: To promote the film, production continued the trend established during Skyfall's production of releasing still images of clapperboards and video blogs on Eon's official social media accounts.\nAnswer: {'score': 0.5859753489494324, 'start': 71, 'end': 78, 'answer': 'Skyfall'}\n\n====================================================================================================\nQuestion: 8: Who else appeared with Beyonce in Telephone?\n\nTop 1 | Score: 31.2343\nContext: In the China Digital Times an article reports a close analysis by an alleged Chinese construction engineer known online as “Book Blade” (书剑子), who stated:\nAnswer: {'score': 0.10303179919719696, 'start': 77, 'end': 106, 'answer': 'Chinese construction engineer'}\n\nTop 2 | Score: 31.2343\nContext: In the China Digital Times an article reports a close analysis by an alleged Chinese construction engineer known online as “Book Blade” (书剑子), who stated:\nAnswer: {'score': 0.10303179919719696, 'start': 77, 'end': 106, 'answer': 'Chinese construction engineer'}\n\nTop 3 | Score: 31.2343\nContext: In the China Digital Times an article reports a close analysis by an alleged Chinese construction engineer known online as “Book Blade” (书剑子), who stated:\nAnswer: {'score': 0.10303179919719696, 'start': 77, 'end': 106, 'answer': 'Chinese construction engineer'}\n\n====================================================================================================\nQuestion: 9: Who did they tie with for six top songs?\n\nTop 1 | Score: 31.2343\nContext: In the China Digital Times an article reports a close analysis by an alleged Chinese construction engineer known online as “Book Blade” (书剑子), who stated:\nAnswer: {'score': 1.887543658085633e-05, 'start': 7, 'end': 26, 'answer': 'China Digital Times'}\n\nTop 2 | Score: 31.2343\nContext: In the China Digital Times an article reports a close analysis by an alleged Chinese construction engineer known online as “Book Blade” (书剑子), who stated:\nAnswer: {'score': 1.887543658085633e-05, 'start': 7, 'end': 26, 'answer': 'China Digital Times'}\n\nTop 3 | Score: 31.2343\nContext: In the China Digital Times an article reports a close analysis by an alleged Chinese construction engineer known online as “Book Blade” (书剑子), who stated:\nAnswer: {'score': 1.887543658085633e-05, 'start': 7, 'end': 26, 'answer': 'China Digital Times'}\n\n====================================================================================================\nQuestion: 10: Who did Beyonce tie with for the most nominations in a year?\n\nTop 1 | Score: 31.2343\nContext: In The New Yorker music critic Jody Rosen described Beyoncé as \"the most important and compelling popular musician of the twenty-first century..... the result, the logical end point, of a century-plus of pop.\" When The Guardian named her Artist of the Decade, Llewyn-Smith wrote, \"Why Beyoncé? [...] Because she made not one but two of the decade's greatest singles, with Crazy in Love and Single Ladies (Put a Ring on It), not to mention her hits with Destiny's Child; and this was the decade when singles – particularly R&B singles – regained their status as pop's favourite medium. [...] [She] and not any superannuated rock star was arguably the greatest live performer of the past 10 years.\" In 2013, Beyoncé made the Time 100 list, Baz Luhrmann writing \"no one has that voice, no one moves the way she moves, no one can hold an audience the way she does... When Beyoncé does an album, when Beyoncé sings a song, when Beyoncé does anything, it's an event, and it's broadly influential. Right now, she is the heir-apparent diva of the USA — the reigning national voice.\" In 2014, Beyoncé was listed again on the Time 100 and also featured on the cover of the issue.\nAnswer: {'score': 0.10399815440177917, 'start': 738, 'end': 750, 'answer': 'Baz Luhrmann'}\n\nTop 2 | Score: 31.2343\nContext: In The New Yorker music critic Jody Rosen described Beyoncé as \"the most important and compelling popular musician of the twenty-first century..... the result, the logical end point, of a century-plus of pop.\" When The Guardian named her Artist of the Decade, Llewyn-Smith wrote, \"Why Beyoncé? [...] Because she made not one but two of the decade's greatest singles, with Crazy in Love and Single Ladies (Put a Ring on It), not to mention her hits with Destiny's Child; and this was the decade when singles – particularly R&B singles – regained their status as pop's favourite medium. [...] [She] and not any superannuated rock star was arguably the greatest live performer of the past 10 years.\" In 2013, Beyoncé made the Time 100 list, Baz Luhrmann writing \"no one has that voice, no one moves the way she moves, no one can hold an audience the way she does... When Beyoncé does an album, when Beyoncé sings a song, when Beyoncé does anything, it's an event, and it's broadly influential. Right now, she is the heir-apparent diva of the USA — the reigning national voice.\" In 2014, Beyoncé was listed again on the Time 100 and also featured on the cover of the issue.\nAnswer: {'score': 0.10399815440177917, 'start': 738, 'end': 750, 'answer': 'Baz Luhrmann'}\n\nTop 3 | Score: 31.2343\nContext: In The New Yorker music critic Jody Rosen described Beyoncé as \"the most important and compelling popular musician of the twenty-first century..... the result, the logical end point, of a century-plus of pop.\" When The Guardian named her Artist of the Decade, Llewyn-Smith wrote, \"Why Beyoncé? [...] Because she made not one but two of the decade's greatest singles, with Crazy in Love and Single Ladies (Put a Ring on It), not to mention her hits with Destiny's Child; and this was the decade when singles – particularly R&B singles – regained their status as pop's favourite medium. [...] [She] and not any superannuated rock star was arguably the greatest live performer of the past 10 years.\" In 2013, Beyoncé made the Time 100 list, Baz Luhrmann writing \"no one has that voice, no one moves the way she moves, no one can hold an audience the way she does... When Beyoncé does an album, when Beyoncé sings a song, when Beyoncé does anything, it's an event, and it's broadly influential. Right now, she is the heir-apparent diva of the USA — the reigning national voice.\" In 2014, Beyoncé was listed again on the Time 100 and also featured on the cover of the issue.\nAnswer: {'score': 0.10399815440177917, 'start': 738, 'end': 750, 'answer': 'Baz Luhrmann'}\n\n====================================================================================================\n",
          "output_type": "stream"
        }
      ],
      "execution_count": null
    }
  ]
}